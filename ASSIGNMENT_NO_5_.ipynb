{
  "nbformat": 4,
  "nbformat_minor": 0,
  "metadata": {
    "colab": {
      "name": "ASSIGNMENT NO.5 .ipynb",
      "provenance": [],
      "collapsed_sections": []
    },
    "kernelspec": {
      "name": "python3",
      "display_name": "Python 3"
    },
    "language_info": {
      "name": "python"
    }
  },
  "cells": [
    {
      "cell_type": "markdown",
      "source": [
        "**1. What does an empty dictionary's code look like?** "
      ],
      "metadata": {
        "id": "3D7rNQc2C6zo"
      }
    },
    {
      "cell_type": "code",
      "source": [
        "d = {} #Two curly brackets\n",
        "type(d)"
      ],
      "metadata": {
        "colab": {
          "base_uri": "https://localhost:8080/"
        },
        "id": "QnGnJbxKDKlH",
        "outputId": "78438f26-7da8-4eda-f48d-7a6730d0f6c5"
      },
      "execution_count": 1,
      "outputs": [
        {
          "output_type": "execute_result",
          "data": {
            "text/plain": [
              "dict"
            ]
          },
          "metadata": {},
          "execution_count": 1
        }
      ]
    },
    {
      "cell_type": "markdown",
      "source": [
        "**2. What is the value of a dictionary value with the key 'foo' and the value 42?**  \n",
        "ANS - "
      ],
      "metadata": {
        "id": "UNbiagV8DPcB"
      }
    },
    {
      "cell_type": "code",
      "source": [
        "d1 = {\"foo\": 42 }\n",
        "dict.values(d1)"
      ],
      "metadata": {
        "colab": {
          "base_uri": "https://localhost:8080/"
        },
        "id": "Nqf_5OHhDNDQ",
        "outputId": "be446bea-f084-4285-98fc-e0f1d683f57a"
      },
      "execution_count": 3,
      "outputs": [
        {
          "output_type": "execute_result",
          "data": {
            "text/plain": [
              "dict_values([42])"
            ]
          },
          "metadata": {},
          "execution_count": 3
        }
      ]
    },
    {
      "cell_type": "markdown",
      "source": [
        "**3. What is the most significant distinction between a dictionary and a list?**  \n",
        "ANS - The items stored in dictionary are unordered and can be accessed via keys while items stored in lists are ordered and can be accessed by thier position. "
      ],
      "metadata": {
        "id": "7Yj8XsRsEZ9k"
      }
    },
    {
      "cell_type": "markdown",
      "source": [
        "**4. What happens if you try to access spam['foo'] if spam is {'bar': 100}?**  \n",
        "ANS - You will get KeyError."
      ],
      "metadata": {
        "id": "vS5cUI6CFQSf"
      }
    },
    {
      "cell_type": "code",
      "source": [
        "spam = {\"bar\" : 100 }\n",
        "spam[\"foo\"]"
      ],
      "metadata": {
        "colab": {
          "base_uri": "https://localhost:8080/",
          "height": 183
        },
        "id": "Mz_86KLiFfO5",
        "outputId": "5f172008-ee98-4b3f-f1e6-85938f2925d5"
      },
      "execution_count": 4,
      "outputs": [
        {
          "output_type": "error",
          "ename": "KeyError",
          "evalue": "ignored",
          "traceback": [
            "\u001b[0;31m---------------------------------------------------------------------------\u001b[0m",
            "\u001b[0;31mKeyError\u001b[0m                                  Traceback (most recent call last)",
            "\u001b[0;32m<ipython-input-4-402cae4e56f8>\u001b[0m in \u001b[0;36m<module>\u001b[0;34m()\u001b[0m\n\u001b[1;32m      1\u001b[0m \u001b[0mspam\u001b[0m \u001b[0;34m=\u001b[0m \u001b[0;34m{\u001b[0m\u001b[0;34m\"bar\"\u001b[0m \u001b[0;34m:\u001b[0m \u001b[0;36m100\u001b[0m \u001b[0;34m}\u001b[0m\u001b[0;34m\u001b[0m\u001b[0;34m\u001b[0m\u001b[0m\n\u001b[0;32m----> 2\u001b[0;31m \u001b[0mspam\u001b[0m\u001b[0;34m[\u001b[0m\u001b[0;34m\"foo\"\u001b[0m\u001b[0;34m]\u001b[0m\u001b[0;34m\u001b[0m\u001b[0;34m\u001b[0m\u001b[0m\n\u001b[0m",
            "\u001b[0;31mKeyError\u001b[0m: 'foo'"
          ]
        }
      ]
    },
    {
      "cell_type": "markdown",
      "source": [
        "**5. If a dictionary is stored in spam, what is the difference between the expressions 'cat' in spam and 'cat' in spam.keys()?**  \n",
        "ANS - There is no difference between \"cat\" in spam and \"cat\" in spam.keys(), both will check whether a key named \"cat\" is present in dictionary or not"
      ],
      "metadata": {
        "id": "Yz0Y0-gzFs8B"
      }
    },
    {
      "cell_type": "code",
      "source": [
        "spam = {\"cat\" : 15}\n",
        "\"cat\" in spam\n"
      ],
      "metadata": {
        "colab": {
          "base_uri": "https://localhost:8080/"
        },
        "id": "SpxOTbj5D--J",
        "outputId": "ddd48cf7-52fa-40af-ef98-db31c1568fd8"
      },
      "execution_count": 5,
      "outputs": [
        {
          "output_type": "execute_result",
          "data": {
            "text/plain": [
              "True"
            ]
          },
          "metadata": {},
          "execution_count": 5
        }
      ]
    },
    {
      "cell_type": "code",
      "source": [
        "\"cat\" in spam.keys()"
      ],
      "metadata": {
        "colab": {
          "base_uri": "https://localhost:8080/"
        },
        "id": "j_MlCPNmG2Yi",
        "outputId": "c829205b-055d-4048-f117-8e82b8c9ac8a"
      },
      "execution_count": 6,
      "outputs": [
        {
          "output_type": "execute_result",
          "data": {
            "text/plain": [
              "True"
            ]
          },
          "metadata": {},
          "execution_count": 6
        }
      ]
    },
    {
      "cell_type": "markdown",
      "source": [
        "**6. If a dictionary is stored in spam, what is the difference between the expressions 'cat' in spam and 'cat' in spam.values()?**  \n",
        "ANS - Here, **\"cat\" in spam** checks whether key named \"cat\" is available in dictionary or not and **\"cat\" in spam.values()** checks whether there is any value present named as \"cat\" in dictionary."
      ],
      "metadata": {
        "id": "Fh0BAtHLG9qZ"
      }
    },
    {
      "cell_type": "code",
      "source": [
        "D = {\"cat\":100}\n",
        "\"cat\" in spam "
      ],
      "metadata": {
        "colab": {
          "base_uri": "https://localhost:8080/"
        },
        "id": "MZOro63mG7r7",
        "outputId": "1e999d9a-d657-4b45-c4fe-70b1d72cc85f"
      },
      "execution_count": 7,
      "outputs": [
        {
          "output_type": "execute_result",
          "data": {
            "text/plain": [
              "True"
            ]
          },
          "metadata": {},
          "execution_count": 7
        }
      ]
    },
    {
      "cell_type": "code",
      "source": [
        "\"cat\" in spam.values()"
      ],
      "metadata": {
        "colab": {
          "base_uri": "https://localhost:8080/"
        },
        "id": "jbSL9JEYH75p",
        "outputId": "ad90f36d-e748-49ce-e37d-283bab8e68a8"
      },
      "execution_count": 8,
      "outputs": [
        {
          "output_type": "execute_result",
          "data": {
            "text/plain": [
              "False"
            ]
          },
          "metadata": {},
          "execution_count": 8
        }
      ]
    },
    {
      "cell_type": "markdown",
      "source": [
        "**7. What is a shortcut for the following code?\n",
        "if 'color' not in spam:\n",
        "spam['color'] = 'black'**  \n",
        "ANS -\n"
      ],
      "metadata": {
        "id": "gmMK6Dm_ICCo"
      }
    },
    {
      "cell_type": "code",
      "source": [
        "spam = {'cat':33}\n",
        "spam.setdefault('color','black')\n",
        "spam"
      ],
      "metadata": {
        "colab": {
          "base_uri": "https://localhost:8080/"
        },
        "id": "oPrqhG2nIACX",
        "outputId": "bfbf072b-c27b-4e6d-8870-1f707883aea1"
      },
      "execution_count": 9,
      "outputs": [
        {
          "output_type": "execute_result",
          "data": {
            "text/plain": [
              "{'cat': 33, 'color': 'black'}"
            ]
          },
          "metadata": {},
          "execution_count": 9
        }
      ]
    },
    {
      "cell_type": "markdown",
      "source": [
        "**8. How do you \"pretty print\" dictionary values using which module and function?**  \n",
        "ANS - \"pretty print\" present dictionary values in more readable format."
      ],
      "metadata": {
        "id": "GUHU-hq8Iixw"
      }
    },
    {
      "cell_type": "code",
      "source": [
        "d1 = [{\"Name\" : \"Captain America\" , \"Age\" : 103, \"City\" : \"Brooklyn\"}, {\"Name\" : \"IronMan\", \"Age\":48 , \"City\" : \"New York\"},\n",
        "      {\"Name\" : \"Batman\" , \"Age\" : 55, \"City\" : \"Gotham\"} , {\"Name\" : \"Superman\" , \"Age\" : 80, \"City\" : \"Metropolis\"} ]"
      ],
      "metadata": {
        "id": "E5TkA9lHIhTt"
      },
      "execution_count": 10,
      "outputs": []
    },
    {
      "cell_type": "code",
      "source": [
        "import pprint \n",
        "pprint.pprint(d1)"
      ],
      "metadata": {
        "colab": {
          "base_uri": "https://localhost:8080/"
        },
        "id": "zUuRqYWNMJy1",
        "outputId": "2dcfcf35-5bff-493e-dbe7-92fa752811d0"
      },
      "execution_count": 11,
      "outputs": [
        {
          "output_type": "stream",
          "name": "stdout",
          "text": [
            "[{'Age': 103, 'City': 'Brooklyn', 'Name': 'Captain America'},\n",
            " {'Age': 48, 'City': 'New York', 'Name': 'IronMan'},\n",
            " {'Age': 55, 'City': 'Gotham', 'Name': 'Batman'},\n",
            " {'Age': 80, 'City': 'Metropolis', 'Name': 'Superman'}]\n"
          ]
        }
      ]
    },
    {
      "cell_type": "code",
      "source": [
        "print(d1)"
      ],
      "metadata": {
        "colab": {
          "base_uri": "https://localhost:8080/"
        },
        "id": "XhfLkerQMSB9",
        "outputId": "5d8c049f-13cd-4803-e246-c288015dc878"
      },
      "execution_count": 12,
      "outputs": [
        {
          "output_type": "stream",
          "name": "stdout",
          "text": [
            "[{'Name': 'Captain America', 'Age': 103, 'City': 'Brooklyn'}, {'Name': 'IronMan', 'Age': 48, 'City': 'New York'}, {'Name': 'Batman', 'Age': 55, 'City': 'Gotham'}, {'Name': 'Superman', 'Age': 80, 'City': 'Metropolis'}]\n"
          ]
        }
      ]
    },
    {
      "cell_type": "code",
      "source": [
        ""
      ],
      "metadata": {
        "id": "l1qvacLQMV4H"
      },
      "execution_count": null,
      "outputs": []
    }
  ]
}