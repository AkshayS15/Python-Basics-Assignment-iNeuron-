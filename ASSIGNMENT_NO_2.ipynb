{
  "nbformat": 4,
  "nbformat_minor": 0,
  "metadata": {
    "colab": {
      "name": "ASSIGNMENT NO.2.ipynb",
      "provenance": [],
      "collapsed_sections": []
    },
    "kernelspec": {
      "name": "python3",
      "display_name": "Python 3"
    },
    "language_info": {
      "name": "python"
    }
  },
  "cells": [
    {
      "cell_type": "markdown",
      "source": [
        "**1. What are the two values of the Boolean data type? How do you write them?**\n",
        "\n",
        "ANS - There are two Boolean data type  \n",
        "1.True  \n",
        "2.False \n",
        "\n",
        "They are are written as True or False with thier first letter as capital letter. "
      ],
      "metadata": {
        "id": "oYXvcC55g1Pv"
      }
    },
    {
      "cell_type": "markdown",
      "source": [
        "**2. What are the three different types of Boolean operators?**  \n",
        "ANS - Following are the three Boolean Operators -  \n",
        "a. \"AND\" operator ( & or 'and\" )  \n",
        "b. \"OR\" operator ( \"or\" )  \n",
        "c. \"NOT\" operator (\"not\")"
      ],
      "metadata": {
        "id": "V0z7MZsRg2ud"
      }
    },
    {
      "cell_type": "markdown",
      "source": [
        "**3. Make a list of each Boolean operator's truth tables (i.e. every possible combination of Boolean values for the operator and what it evaluate ).**  \n",
        "ANS - "
      ],
      "metadata": {
        "id": "vSKqLM1Pg3z2"
      }
    },
    {
      "cell_type": "code",
      "source": [
        "#Using \"AND\" operator\n",
        "True and True\n"
      ],
      "metadata": {
        "colab": {
          "base_uri": "https://localhost:8080/"
        },
        "id": "Fjv-DWlsuKaz",
        "outputId": "62145b68-8df7-424f-d0ee-9690cd4dc462"
      },
      "execution_count": null,
      "outputs": [
        {
          "output_type": "execute_result",
          "data": {
            "text/plain": [
              "True"
            ]
          },
          "metadata": {},
          "execution_count": 4
        }
      ]
    },
    {
      "cell_type": "code",
      "source": [
        "True and False"
      ],
      "metadata": {
        "colab": {
          "base_uri": "https://localhost:8080/"
        },
        "id": "9hFDjporundp",
        "outputId": "f523e9da-0fc2-4070-a881-3c2e8bd2a394"
      },
      "execution_count": null,
      "outputs": [
        {
          "output_type": "execute_result",
          "data": {
            "text/plain": [
              "False"
            ]
          },
          "metadata": {},
          "execution_count": 5
        }
      ]
    },
    {
      "cell_type": "code",
      "source": [
        "False and True"
      ],
      "metadata": {
        "colab": {
          "base_uri": "https://localhost:8080/"
        },
        "id": "35PSRyoAuqK0",
        "outputId": "aedd4747-9050-4bde-91b1-08fef8d586d7"
      },
      "execution_count": null,
      "outputs": [
        {
          "output_type": "execute_result",
          "data": {
            "text/plain": [
              "False"
            ]
          },
          "metadata": {},
          "execution_count": 6
        }
      ]
    },
    {
      "cell_type": "code",
      "source": [
        "False and False"
      ],
      "metadata": {
        "colab": {
          "base_uri": "https://localhost:8080/"
        },
        "id": "Smb6ozFtutSV",
        "outputId": "9981d6c0-3277-43cd-8ad0-81904144ccde"
      },
      "execution_count": null,
      "outputs": [
        {
          "output_type": "execute_result",
          "data": {
            "text/plain": [
              "False"
            ]
          },
          "metadata": {},
          "execution_count": 7
        }
      ]
    },
    {
      "cell_type": "code",
      "source": [
        "#Using \"OR\" Operator\n",
        "True or True"
      ],
      "metadata": {
        "colab": {
          "base_uri": "https://localhost:8080/"
        },
        "id": "fh2FEvufuxwC",
        "outputId": "08055d5f-aefd-43cd-cd18-c53ab382a104"
      },
      "execution_count": null,
      "outputs": [
        {
          "output_type": "execute_result",
          "data": {
            "text/plain": [
              "True"
            ]
          },
          "metadata": {},
          "execution_count": 8
        }
      ]
    },
    {
      "cell_type": "code",
      "source": [
        "True or False"
      ],
      "metadata": {
        "colab": {
          "base_uri": "https://localhost:8080/"
        },
        "id": "aaBArRN5u9_2",
        "outputId": "3a7f1201-4df5-4a15-863d-f3fa855aa43c"
      },
      "execution_count": null,
      "outputs": [
        {
          "output_type": "execute_result",
          "data": {
            "text/plain": [
              "True"
            ]
          },
          "metadata": {},
          "execution_count": 9
        }
      ]
    },
    {
      "cell_type": "code",
      "source": [
        "False or True"
      ],
      "metadata": {
        "colab": {
          "base_uri": "https://localhost:8080/"
        },
        "id": "Fsnvd8yIu_2d",
        "outputId": "f3290ece-ce15-4b8b-e2b9-4271069e71e5"
      },
      "execution_count": null,
      "outputs": [
        {
          "output_type": "execute_result",
          "data": {
            "text/plain": [
              "True"
            ]
          },
          "metadata": {},
          "execution_count": 10
        }
      ]
    },
    {
      "cell_type": "code",
      "source": [
        "False or False"
      ],
      "metadata": {
        "colab": {
          "base_uri": "https://localhost:8080/"
        },
        "id": "9QUTgHZ6vFJm",
        "outputId": "7d4b305c-7d3e-4f23-d879-8895da4f92ec"
      },
      "execution_count": null,
      "outputs": [
        {
          "output_type": "execute_result",
          "data": {
            "text/plain": [
              "False"
            ]
          },
          "metadata": {},
          "execution_count": 11
        }
      ]
    },
    {
      "cell_type": "code",
      "source": [
        "#Using \"NOT\" operators\n",
        "not(True)"
      ],
      "metadata": {
        "colab": {
          "base_uri": "https://localhost:8080/"
        },
        "id": "HxGQuo2IvHTZ",
        "outputId": "c34694cb-3332-4432-bdff-490926cc5f25"
      },
      "execution_count": null,
      "outputs": [
        {
          "output_type": "execute_result",
          "data": {
            "text/plain": [
              "False"
            ]
          },
          "metadata": {},
          "execution_count": 13
        }
      ]
    },
    {
      "cell_type": "code",
      "source": [
        "not(False)"
      ],
      "metadata": {
        "colab": {
          "base_uri": "https://localhost:8080/"
        },
        "id": "1MJ_KooavKuN",
        "outputId": "bfb29aa9-3504-46a3-ecd6-533881bc794b"
      },
      "execution_count": null,
      "outputs": [
        {
          "output_type": "execute_result",
          "data": {
            "text/plain": [
              "True"
            ]
          },
          "metadata": {},
          "execution_count": 14
        }
      ]
    },
    {
      "cell_type": "markdown",
      "source": [
        "**4. What are the values of the following expressions?\n",
        "(5 > 4) and (3 == 5)\n",
        "not (5 > 4)\n",
        "(5 > 4) or (3 == 5)\n",
        "not ((5 > 4) or (3 == 5))\n",
        "(True and True) and (True == False)\n",
        "(not False) or (not True)**  \n",
        "ANS-\n"
      ],
      "metadata": {
        "id": "zS0e-BDGveSm"
      }
    },
    {
      "cell_type": "code",
      "source": [
        "(5>4) and (3==5)"
      ],
      "metadata": {
        "colab": {
          "base_uri": "https://localhost:8080/"
        },
        "id": "b3z6SkMev28M",
        "outputId": "4111ed77-6d5b-4d3b-f01e-29476d748ab8"
      },
      "execution_count": null,
      "outputs": [
        {
          "output_type": "execute_result",
          "data": {
            "text/plain": [
              "False"
            ]
          },
          "metadata": {},
          "execution_count": 15
        }
      ]
    },
    {
      "cell_type": "code",
      "source": [
        "not (5 > 4)\n"
      ],
      "metadata": {
        "colab": {
          "base_uri": "https://localhost:8080/"
        },
        "id": "lETXcybgwP3J",
        "outputId": "ac2b261a-7ef2-46b2-b797-61717ddf4639"
      },
      "execution_count": null,
      "outputs": [
        {
          "output_type": "execute_result",
          "data": {
            "text/plain": [
              "False"
            ]
          },
          "metadata": {},
          "execution_count": 16
        }
      ]
    },
    {
      "cell_type": "code",
      "source": [
        "(5 > 4) or (3 == 5)"
      ],
      "metadata": {
        "colab": {
          "base_uri": "https://localhost:8080/"
        },
        "id": "p01i-U3UwX2b",
        "outputId": "ae0958f4-a93f-4584-f5fd-4cb6a701e0bd"
      },
      "execution_count": null,
      "outputs": [
        {
          "output_type": "execute_result",
          "data": {
            "text/plain": [
              "True"
            ]
          },
          "metadata": {},
          "execution_count": 17
        }
      ]
    },
    {
      "cell_type": "code",
      "source": [
        "not ((5 > 4) or (3 == 5))"
      ],
      "metadata": {
        "colab": {
          "base_uri": "https://localhost:8080/"
        },
        "id": "S5gFII34wbBP",
        "outputId": "e0352a62-2669-4c59-cd5f-76216c0b9f99"
      },
      "execution_count": null,
      "outputs": [
        {
          "output_type": "execute_result",
          "data": {
            "text/plain": [
              "False"
            ]
          },
          "metadata": {},
          "execution_count": 18
        }
      ]
    },
    {
      "cell_type": "code",
      "source": [
        "(True and True) and (True == False)"
      ],
      "metadata": {
        "colab": {
          "base_uri": "https://localhost:8080/"
        },
        "id": "F09rGr-QwfX_",
        "outputId": "0457afb0-0339-4e42-a83d-b6b2004618e1"
      },
      "execution_count": null,
      "outputs": [
        {
          "output_type": "execute_result",
          "data": {
            "text/plain": [
              "False"
            ]
          },
          "metadata": {},
          "execution_count": 19
        }
      ]
    },
    {
      "cell_type": "code",
      "source": [
        "(not False) or (not True)"
      ],
      "metadata": {
        "colab": {
          "base_uri": "https://localhost:8080/"
        },
        "id": "YKUy4yZQwks5",
        "outputId": "56d80b9e-64f8-466b-fae2-9ea3ff505a21"
      },
      "execution_count": null,
      "outputs": [
        {
          "output_type": "execute_result",
          "data": {
            "text/plain": [
              "True"
            ]
          },
          "metadata": {},
          "execution_count": 20
        }
      ]
    },
    {
      "cell_type": "markdown",
      "source": [
        "**5. What are the six comparison operators?**  \n",
        "ANS - a.Not Equal - '!='  \n",
        "b. Equal to - '=='  \n",
        "c. Greater than - '>'  \n",
        "d. Lesser than - '<'  \n",
        "e. Greater than or Equal to - '>='  \n",
        "f. Lesser than or Equal to - '<='\n",
        "\n"
      ],
      "metadata": {
        "id": "V9DNLRFrwqq1"
      }
    },
    {
      "cell_type": "markdown",
      "source": [
        "**6. How do you tell the difference between the equal to and assignment operators?Describe a condition and when you would use one.**  \n",
        "ANS - '=' sign is used to assign the value which is on the right side of the variable.  \n",
        "Ex.  \n",
        "a = 5  \n",
        "here, we have assigned the value 5 to the variable **a**. If we print **a** it will give us result as 5.  \n",
        "'==' signis used to to compare the values and gives result in format of boolean.  \n",
        "Ex.  \n",
        "**90==90** will give us result as True.  \n",
        "While **90==10** will give us result as False. "
      ],
      "metadata": {
        "id": "GdLAxLhCyCyA"
      }
    },
    {
      "cell_type": "markdown",
      "source": [
        "**7. Identify the three blocks in this code:\n",
        "spam = 0\n",
        "if spam == 10:\n",
        "print('eggs')\n",
        "if spam > 5:\n",
        "print('bacon')\n",
        "else:\n",
        "print('ham')\n",
        "print('spam')\n",
        "print('spam')**\n"
      ],
      "metadata": {
        "id": "oQhkbl_Izw6R"
      }
    },
    {
      "cell_type": "code",
      "source": [
        "spam = 0\n",
        "\n",
        "if spam == 10:  #first block\n",
        "  print(\"eggs\")\n",
        "#Second block\n",
        "if spam > 5 :   #Second block\n",
        "  print(\"bacon\")\n",
        "#Third Block\n",
        "else:           #Third Block\n",
        "    print('ham')\n",
        "    print('spam')\n",
        "    print('spam')\n"
      ],
      "metadata": {
        "colab": {
          "base_uri": "https://localhost:8080/"
        },
        "id": "FTl6p-LS0NOX",
        "outputId": "663a4135-777b-4251-b9cf-ea821db99857"
      },
      "execution_count": null,
      "outputs": [
        {
          "output_type": "stream",
          "name": "stdout",
          "text": [
            "ham\n",
            "spam\n",
            "spam\n"
          ]
        }
      ]
    },
    {
      "cell_type": "markdown",
      "source": [
        "**8. Write code that prints Hello if 1 is stored in spam, prints Howdy if 2 is stored in spam, and prints Greetings! if anything else is stored in spam.**"
      ],
      "metadata": {
        "id": "C4K4p-YV1b5k"
      }
    },
    {
      "cell_type": "code",
      "source": [
        "spam = int(input(\"\"))\n",
        "if spam == 1:\n",
        "  print(\"Hello\")\n",
        "elif spam == 2 :\n",
        "  print(\"Howdy\")\n",
        "else :\n",
        "  print(\"Greetings\")"
      ],
      "metadata": {
        "colab": {
          "base_uri": "https://localhost:8080/"
        },
        "id": "W7m8SyCc2CRu",
        "outputId": "1d827e3c-f076-4d63-b334-2d625269d018"
      },
      "execution_count": null,
      "outputs": [
        {
          "output_type": "stream",
          "name": "stdout",
          "text": [
            "2\n",
            "Howdy\n"
          ]
        }
      ]
    },
    {
      "cell_type": "markdown",
      "source": [
        "**9.If your programme is stuck in an endless loop, what keys you’ll press?**  \n",
        "ANS - We can use CTRL + C to stop the programme which is stuck in endless loop."
      ],
      "metadata": {
        "id": "b8FfLbYg3ZY_"
      }
    },
    {
      "cell_type": "markdown",
      "source": [
        "**10. How can you tell the difference between break and continue?**  \n",
        "ANS - Break - It terminates the execution of loop.  \n",
        "Continue - It terminates only current iteration of the loop and will resume the control of the program to the next iteration of the same loop."
      ],
      "metadata": {
        "id": "DtkbqgVs36dp"
      }
    },
    {
      "cell_type": "markdown",
      "source": [
        "**11. In a for loop, what is the difference between range(10), range(0, 10), and range(0, 10, 1)?**  \n",
        "ANS - "
      ],
      "metadata": {
        "id": "ShseGj0qkRxT"
      }
    },
    {
      "cell_type": "code",
      "source": [
        "range(10)"
      ],
      "metadata": {
        "colab": {
          "base_uri": "https://localhost:8080/"
        },
        "id": "TP4QIFb9kW2i",
        "outputId": "4576b851-d8e1-4def-fa25-a663eaa4aeb8"
      },
      "execution_count": 3,
      "outputs": [
        {
          "output_type": "execute_result",
          "data": {
            "text/plain": [
              "range(0, 10)"
            ]
          },
          "metadata": {},
          "execution_count": 3
        }
      ]
    },
    {
      "cell_type": "code",
      "source": [
        "range(0,10)"
      ],
      "metadata": {
        "colab": {
          "base_uri": "https://localhost:8080/"
        },
        "id": "nHqladiUkjaL",
        "outputId": "ee69d3f7-82e0-41b2-85dc-1bb6c300527e"
      },
      "execution_count": 1,
      "outputs": [
        {
          "output_type": "execute_result",
          "data": {
            "text/plain": [
              "range(0, 10)"
            ]
          },
          "metadata": {},
          "execution_count": 1
        }
      ]
    },
    {
      "cell_type": "code",
      "source": [
        "range(0,10,1)"
      ],
      "metadata": {
        "colab": {
          "base_uri": "https://localhost:8080/"
        },
        "id": "fpELkQFmklpU",
        "outputId": "daa4613a-7800-4262-cf71-38dab16ee154"
      },
      "execution_count": 2,
      "outputs": [
        {
          "output_type": "execute_result",
          "data": {
            "text/plain": [
              "range(0, 10)"
            ]
          },
          "metadata": {},
          "execution_count": 2
        }
      ]
    },
    {
      "cell_type": "markdown",
      "source": [
        "The output is same for all. The only diference between these three is the way of writing the condition."
      ],
      "metadata": {
        "id": "NFRJjbxxk9-I"
      }
    },
    {
      "cell_type": "markdown",
      "source": [
        "**12. Write a short program that prints the numbers 1 to 10 using a for loop. Then write an equivalent program that prints the numbers 1 to 10 using a while loop.**"
      ],
      "metadata": {
        "id": "OApH0I3glT89"
      }
    },
    {
      "cell_type": "code",
      "source": [
        "i = range(0,11)\n",
        "for i in range(0,11):\n",
        "  print(i)"
      ],
      "metadata": {
        "colab": {
          "base_uri": "https://localhost:8080/"
        },
        "id": "UGVIBaS1lZJI",
        "outputId": "1672cafb-25a9-4098-f189-aa6f580bbd2f"
      },
      "execution_count": 6,
      "outputs": [
        {
          "output_type": "stream",
          "name": "stdout",
          "text": [
            "0\n",
            "1\n",
            "2\n",
            "3\n",
            "4\n",
            "5\n",
            "6\n",
            "7\n",
            "8\n",
            "9\n",
            "10\n"
          ]
        }
      ]
    },
    {
      "cell_type": "code",
      "source": [
        "i = 0\n",
        "while i <=10:\n",
        "  print(i)\n",
        "i = i+1"
      ],
      "metadata": {
        "colab": {
          "base_uri": "https://localhost:8080/"
        },
        "id": "44M6OL8VkpCi",
        "outputId": "02e13189-c103-4129-a12f-c79188075b2f"
      },
      "execution_count": 8,
      "outputs": [
        {
          "output_type": "stream",
          "name": "stdout",
          "text": [
            "0\n",
            "1\n",
            "2\n",
            "3\n",
            "4\n",
            "5\n",
            "6\n",
            "7\n",
            "8\n",
            "9\n",
            "10\n"
          ]
        }
      ]
    },
    {
      "cell_type": "markdown",
      "source": [
        "\n",
        "**13. If you had a function named bacon() inside a module named spam, how would you call it after importing spam?**  \n",
        "ANS - The function can be called with the help of spam.bacon()"
      ],
      "metadata": {
        "id": "dRyI8jbImdP5"
      }
    }
  ]
}