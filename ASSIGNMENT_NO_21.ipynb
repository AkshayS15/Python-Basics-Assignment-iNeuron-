{
  "nbformat": 4,
  "nbformat_minor": 0,
  "metadata": {
    "colab": {
      "name": "ASSIGNMENT NO.21.ipynb",
      "provenance": [],
      "collapsed_sections": []
    },
    "kernelspec": {
      "name": "python3",
      "display_name": "Python 3"
    },
    "language_info": {
      "name": "python"
    }
  },
  "cells": [
    {
      "cell_type": "markdown",
      "source": [
        "**1. Add the current date to the text file today.txt as a string.**  \n",
        "ANS - "
      ],
      "metadata": {
        "id": "hv9qlzgCv6t2"
      }
    },
    {
      "cell_type": "code",
      "source": [
        "from datetime import date \n",
        "now = date.today()\n",
        "cur_date = now.isoformat()\n",
        "cur_date\n"
      ],
      "metadata": {
        "colab": {
          "base_uri": "https://localhost:8080/",
          "height": 36
        },
        "id": "gKd43z9sv9me",
        "outputId": "9a73de5d-e5fd-4dea-df6d-d32c39074a03"
      },
      "execution_count": 4,
      "outputs": [
        {
          "output_type": "execute_result",
          "data": {
            "text/plain": [
              "'2022-04-11'"
            ],
            "application/vnd.google.colaboratory.intrinsic+json": {
              "type": "string"
            }
          },
          "metadata": {},
          "execution_count": 4
        }
      ]
    },
    {
      "cell_type": "code",
      "source": [
        "with open('today.txt' , 'w') as file :\n",
        "  file.write(cur_date)"
      ],
      "metadata": {
        "id": "ag4C8nFRwlFw"
      },
      "execution_count": 5,
      "outputs": []
    },
    {
      "cell_type": "markdown",
      "source": [
        "**2. Read the text file today.txt into the string today_string**  \n",
        "ANS - "
      ],
      "metadata": {
        "id": "Os47rO3cxJU-"
      }
    },
    {
      "cell_type": "code",
      "source": [
        "with open('today.txt' , 'r') as file:\n",
        "  today_string = file.read()\n",
        "today_string"
      ],
      "metadata": {
        "colab": {
          "base_uri": "https://localhost:8080/",
          "height": 36
        },
        "id": "SSCcSt8pxjxm",
        "outputId": "96b680c3-ced0-4128-d8b4-cd6fd4d4a46b"
      },
      "execution_count": 8,
      "outputs": [
        {
          "output_type": "execute_result",
          "data": {
            "text/plain": [
              "'2022-04-11'"
            ],
            "application/vnd.google.colaboratory.intrinsic+json": {
              "type": "string"
            }
          },
          "metadata": {},
          "execution_count": 8
        }
      ]
    },
    {
      "cell_type": "markdown",
      "source": [
        "**3.Parse the date from today_string.**  \n",
        "ANS - "
      ],
      "metadata": {
        "id": "STlibUyjyD8D"
      }
    },
    {
      "cell_type": "code",
      "source": [
        "from datetime import datetime\n",
        "format = '%Y-%m-%d'\n",
        "datetime.strptime(today_string,format)"
      ],
      "metadata": {
        "colab": {
          "base_uri": "https://localhost:8080/"
        },
        "id": "9yupru76yGsb",
        "outputId": "ef6cb7d4-ca94-4a00-eb7a-93ff60b50554"
      },
      "execution_count": 9,
      "outputs": [
        {
          "output_type": "execute_result",
          "data": {
            "text/plain": [
              "datetime.datetime(2022, 4, 11, 0, 0)"
            ]
          },
          "metadata": {},
          "execution_count": 9
        }
      ]
    },
    {
      "cell_type": "markdown",
      "source": [
        "**4. List the files in your current directory**  \n",
        "ANS - "
      ],
      "metadata": {
        "id": "7_fvtLk9yQQ1"
      }
    },
    {
      "cell_type": "code",
      "source": [
        "import os \n",
        "os.listdir('.')"
      ],
      "metadata": {
        "colab": {
          "base_uri": "https://localhost:8080/"
        },
        "id": "vTO1fpw6yXjn",
        "outputId": "247fcb10-7d42-49a4-c097-cf5e1badd80d"
      },
      "execution_count": 10,
      "outputs": [
        {
          "output_type": "execute_result",
          "data": {
            "text/plain": [
              "['.config', 'today.txt', 'sample_data']"
            ]
          },
          "metadata": {},
          "execution_count": 10
        }
      ]
    },
    {
      "cell_type": "markdown",
      "source": [
        "**5. Create a list of all of the files in your parent directory (minimum five files should be available).**  \n",
        "ANS - "
      ],
      "metadata": {
        "id": "jptuzEQ8ye1B"
      }
    },
    {
      "cell_type": "code",
      "source": [
        "os.listdir('..')"
      ],
      "metadata": {
        "colab": {
          "base_uri": "https://localhost:8080/"
        },
        "id": "Wf0DPQBOymcY",
        "outputId": "f34ab484-1072-4849-8e72-2d2bdfd9fbe4"
      },
      "execution_count": 11,
      "outputs": [
        {
          "output_type": "execute_result",
          "data": {
            "text/plain": [
              "['tmp',\n",
              " 'etc',\n",
              " 'sys',\n",
              " 'bin',\n",
              " 'run',\n",
              " 'dev',\n",
              " 'proc',\n",
              " 'lib64',\n",
              " 'media',\n",
              " 'srv',\n",
              " 'usr',\n",
              " 'sbin',\n",
              " 'opt',\n",
              " 'root',\n",
              " 'home',\n",
              " 'boot',\n",
              " 'lib',\n",
              " 'mnt',\n",
              " 'var',\n",
              " 'content',\n",
              " '.dockerenv',\n",
              " 'tools',\n",
              " 'datalab',\n",
              " 'tensorflow-1.15.2',\n",
              " 'lib32',\n",
              " 'python-apt']"
            ]
          },
          "metadata": {},
          "execution_count": 11
        }
      ]
    },
    {
      "cell_type": "markdown",
      "source": [
        "**6. Use multiprocessing to create three separate processes. Make each one wait a random number of seconds between one and five, print the current time, and then exit.**  \n",
        "ANS - "
      ],
      "metadata": {
        "id": "ivaOi1DxyvLc"
      }
    },
    {
      "cell_type": "markdown",
      "source": [
        "**7. Create a date object of your day of birth.**  \n",
        "ANS - "
      ],
      "metadata": {
        "id": "Aet5Za3Ey8YX"
      }
    },
    {
      "cell_type": "code",
      "source": [
        "from datetime import datetime\n",
        "my_bdate = datetime.strptime('15/04/1999' , '%d/%m/%Y')\n",
        "print(my_bdate , type(my_bdate))"
      ],
      "metadata": {
        "colab": {
          "base_uri": "https://localhost:8080/"
        },
        "id": "8tuq7VQuzA4r",
        "outputId": "0dd130b0-d8d9-4b7e-d572-5523a1b141d2"
      },
      "execution_count": 20,
      "outputs": [
        {
          "output_type": "stream",
          "name": "stdout",
          "text": [
            "1999-04-15 00:00:00 <class 'datetime.datetime'>\n"
          ]
        }
      ]
    },
    {
      "cell_type": "markdown",
      "source": [
        "**8.What day of the week was your day of birth?**  \n",
        "ANS - "
      ],
      "metadata": {
        "id": "cXqs2JP3zRVv"
      }
    },
    {
      "cell_type": "code",
      "source": [
        "from datetime import datetime\n",
        "my_bdate = datetime(1999,4,15)\n",
        "my_bdate.strftime(\"%A\")"
      ],
      "metadata": {
        "colab": {
          "base_uri": "https://localhost:8080/",
          "height": 36
        },
        "id": "geoILriVzV5g",
        "outputId": "c8ead326-6d4a-4d2f-faf5-bc4580773083"
      },
      "execution_count": 22,
      "outputs": [
        {
          "output_type": "execute_result",
          "data": {
            "text/plain": [
              "'Thursday'"
            ],
            "application/vnd.google.colaboratory.intrinsic+json": {
              "type": "string"
            }
          },
          "metadata": {},
          "execution_count": 22
        }
      ]
    },
    {
      "cell_type": "markdown",
      "source": [
        "**9. When will you be (or when were you) 10,000 days old?**  \n",
        "ANS - "
      ],
      "metadata": {
        "id": "q4Qq9LAnzi6b"
      }
    },
    {
      "cell_type": "code",
      "source": [
        "from datetime import datetime, timedelta\n",
        "my_bdate = datetime.strptime(\"22/04/1997\",'%d/%m/%Y')\n",
        "future_date = my_bdate-timedelta(10000)\n",
        "print(future_date)"
      ],
      "metadata": {
        "colab": {
          "base_uri": "https://localhost:8080/"
        },
        "id": "9aaB7Zz2zn2u",
        "outputId": "8443378c-42e0-46a4-ad39-fab364cb9213"
      },
      "execution_count": 24,
      "outputs": [
        {
          "output_type": "stream",
          "name": "stdout",
          "text": [
            "1969-12-05 00:00:00\n"
          ]
        }
      ]
    }
  ]
}