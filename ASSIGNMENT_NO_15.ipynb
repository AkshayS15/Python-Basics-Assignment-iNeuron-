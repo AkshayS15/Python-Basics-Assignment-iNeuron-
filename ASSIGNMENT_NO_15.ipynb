{
  "nbformat": 4,
  "nbformat_minor": 0,
  "metadata": {
    "colab": {
      "name": "ASSIGNMENT NO.15.ipynb",
      "provenance": [],
      "collapsed_sections": []
    },
    "kernelspec": {
      "name": "python3",
      "display_name": "Python 3"
    },
    "language_info": {
      "name": "python"
    }
  },
  "cells": [
    {
      "cell_type": "markdown",
      "source": [
        "**1.How many seconds are in an hour? Use the interactive interpreter as a calculator and multiply the number of seconds in a minute (60) by the number of minutes in an hour (also 60).**  \n",
        "ANS - "
      ],
      "metadata": {
        "id": "T6zRhriGSPBX"
      }
    },
    {
      "cell_type": "code",
      "source": [
        "min_per_hr = 60\n",
        "sec_per_min = 60 \n",
        "\n",
        "min_per_hr * sec_per_min\n"
      ],
      "metadata": {
        "colab": {
          "base_uri": "https://localhost:8080/"
        },
        "id": "8ZWgShYjSloY",
        "outputId": "648146b9-7e73-4c2d-e4eb-8412720cda35"
      },
      "execution_count": 13,
      "outputs": [
        {
          "output_type": "execute_result",
          "data": {
            "text/plain": [
              "3600"
            ]
          },
          "metadata": {},
          "execution_count": 13
        }
      ]
    },
    {
      "cell_type": "markdown",
      "source": [
        "**2. Assign the result from the previous task (seconds in an hour) to a variable called seconds_per_hour**  \n",
        "ANS - "
      ],
      "metadata": {
        "id": "tuZC2-XGTJer"
      }
    },
    {
      "cell_type": "code",
      "source": [
        "seconds_per_hour = min_per_hr * sec_per_min\n",
        "seconds_per_hour"
      ],
      "metadata": {
        "colab": {
          "base_uri": "https://localhost:8080/"
        },
        "id": "zuDKRIf-TYK6",
        "outputId": "f8153102-111a-45f8-9fb9-e5a8b124ad52"
      },
      "execution_count": 15,
      "outputs": [
        {
          "output_type": "execute_result",
          "data": {
            "text/plain": [
              "3600"
            ]
          },
          "metadata": {},
          "execution_count": 15
        }
      ]
    },
    {
      "cell_type": "markdown",
      "source": [
        "**3. How many seconds do you think there are in a day? Make use of the variables seconds per hour and minutes per hour**  \n",
        "ANS - "
      ],
      "metadata": {
        "id": "fwR9UViTTntG"
      }
    },
    {
      "cell_type": "code",
      "source": [
        "hours_in_day = 24 \n",
        "seconds_per_hour * hours_in_day\n"
      ],
      "metadata": {
        "colab": {
          "base_uri": "https://localhost:8080/"
        },
        "id": "Upiwf8eFT32m",
        "outputId": "93754791-2e98-45a1-9fce-05dc4c964417"
      },
      "execution_count": 16,
      "outputs": [
        {
          "output_type": "execute_result",
          "data": {
            "text/plain": [
              "86400"
            ]
          },
          "metadata": {},
          "execution_count": 16
        }
      ]
    },
    {
      "cell_type": "markdown",
      "source": [
        "**4. Calculate seconds per day again, but this time save the result in a variable called seconds_per_day**  \n",
        "ANS - "
      ],
      "metadata": {
        "id": "rq9z1hWyUIVy"
      }
    },
    {
      "cell_type": "code",
      "source": [
        "seconds_per_day = seconds_per_hour * hours_in_day\n",
        "seconds_per_day"
      ],
      "metadata": {
        "colab": {
          "base_uri": "https://localhost:8080/"
        },
        "id": "Qad6M7laUffN",
        "outputId": "737af54d-68c6-4017-9f65-b7504be6c285"
      },
      "execution_count": 17,
      "outputs": [
        {
          "output_type": "execute_result",
          "data": {
            "text/plain": [
              "86400"
            ]
          },
          "metadata": {},
          "execution_count": 17
        }
      ]
    },
    {
      "cell_type": "markdown",
      "source": [
        "**5. Divide seconds_per_day by seconds_per_hour. Use floating-point (/) division.**  \n",
        "ANS - "
      ],
      "metadata": {
        "id": "7TyPzmJiUt-Q"
      }
    },
    {
      "cell_type": "code",
      "source": [
        "seconds_per_day/seconds_per_hour"
      ],
      "metadata": {
        "colab": {
          "base_uri": "https://localhost:8080/"
        },
        "id": "u9MEnomqUxCA",
        "outputId": "d4ba7857-dfb6-4077-eade-4e39c7648022"
      },
      "execution_count": 18,
      "outputs": [
        {
          "output_type": "execute_result",
          "data": {
            "text/plain": [
              "24.0"
            ]
          },
          "metadata": {},
          "execution_count": 18
        }
      ]
    },
    {
      "cell_type": "markdown",
      "source": [
        "**6. Divide seconds_per_day by seconds_per_hour, using integer (//) division. Did this number agree with the floating-point value from the previous question, aside from the final .0?**  \n",
        "ANS - "
      ],
      "metadata": {
        "id": "o1Jpib0FVN-P"
      }
    },
    {
      "cell_type": "code",
      "source": [
        "seconds_per_day//seconds_per_hour \n",
        "#It agrees"
      ],
      "metadata": {
        "colab": {
          "base_uri": "https://localhost:8080/"
        },
        "id": "1aItoHjMVVZh",
        "outputId": "98fbdf9c-73bc-439d-eeb5-37acd9f16116"
      },
      "execution_count": 19,
      "outputs": [
        {
          "output_type": "execute_result",
          "data": {
            "text/plain": [
              "24"
            ]
          },
          "metadata": {},
          "execution_count": 19
        }
      ]
    },
    {
      "cell_type": "markdown",
      "source": [
        "**7. Write a generator, genPrimes, that returns the sequence of prime numbers on successive calls to its next() method: 2, 3, 5, 7, 11, ...**  \n",
        "ANS - "
      ],
      "metadata": {
        "id": "qdgq96ysVj2r"
      }
    },
    {
      "cell_type": "code",
      "source": [
        "def genPrimes() :\n",
        "  Primes = []\n",
        "  n = 2 \n",
        "  while True :\n",
        "    for i in Primes :\n",
        "      if n % i == 0:\n",
        "        break \n",
        "    else :\n",
        "      Primes.append(n)\n",
        "      yield n \n",
        "    n = n+1  \n",
        "        \n",
        "      \n",
        "\n"
      ],
      "metadata": {
        "id": "t0rRcydzVoop"
      },
      "execution_count": 23,
      "outputs": []
    }
  ]
}