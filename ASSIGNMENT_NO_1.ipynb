{
  "nbformat": 4,
  "nbformat_minor": 0,
  "metadata": {
    "colab": {
      "name": "ASSIGNMENT NO.1.ipynb",
      "provenance": [],
      "collapsed_sections": []
    },
    "kernelspec": {
      "name": "python3",
      "display_name": "Python 3"
    },
    "language_info": {
      "name": "python"
    }
  },
  "cells": [
    {
      "cell_type": "markdown",
      "source": [
        "**ASSIGNMENT NO.1**\n",
        "\n",
        "\n",
        "\n",
        "\n",
        "\n"
      ],
      "metadata": {
        "id": "8NKB1wKL6cCD"
      }
    },
    {
      "cell_type": "markdown",
      "source": [
        "**1. In the below elements which of them are values or an expression? eg:- values an be in teger or string and expressions will be mathematical operators.\n",
        "'hello' , -87.8 , - , / , + , 6**\n",
        "\n",
        "ANS - a.'hello' = This is string elment, as it's enclosed in single quotes.\n",
        "\n",
        "b. -87.8 = This is Float element .\n",
        "\n",
        "c. (- , / , + ) = This are types of operators.\n",
        "\n",
        "d. 6 = This is integer value, integer can hold value as whole number.\n"
      ],
      "metadata": {
        "id": "rBqPrIQH7FCz"
      }
    },
    {
      "cell_type": "markdown",
      "source": [
        "**2. What is the difference between string and variable?** \n",
        "\n",
        "ANS -  \n",
        "\n",
        "String is series of characters, enclosed between quotes. Ex. \"Hello\", \"548\" , \"5+6J\"\n",
        "\n",
        "Variable is used to store/hold any type of  information such as strings, integers , floats, sets , lists, tupples, etc. Ex. a = \"AKSHAY\" , b = 56 , c = (5,6,7,8)"
      ],
      "metadata": {
        "id": "5e8gxjuF97Ib"
      }
    },
    {
      "cell_type": "markdown",
      "source": [
        "**3. Describe three different data types.**\n",
        "\n",
        "ANS - a.String = A string is series of characters enlcosed in quotation. Ex. \"Hello\", \"My name is Akshay\", \"8956\" , etc.\n",
        "\n",
        "b.integer = it is use to store the in the form of numerical values only. Ex. 54,65,98 etc.\n",
        "\n",
        "c.List = A list is type of data which can hold/store various items.The lis is enclosed with the help of [ ] and items in the list is separated by (,). Ex. [\"Akshay\", 45, 89.36, 5+6j , True ]\n",
        "\n"
      ],
      "metadata": {
        "id": "LsglUorbOo1U"
      }
    },
    {
      "cell_type": "markdown",
      "source": [
        "**4. What is an expression made up of? What do all expressions do?**\n",
        "\n",
        "ANS - Expression is made up with the combination of variables, values operators, etc.\n",
        "Expression is need to be evaluated. Ex. a-b-5\n",
        "\n"
      ],
      "metadata": {
        "id": "cMGkF6BvDq-l"
      }
    },
    {
      "cell_type": "markdown",
      "source": [
        "**5. This assignment statements, like spam = 10. What is the difference between an expression and a statement?**\n",
        "\n",
        "ANS - Here, spam = 10 is declaration. It is declared that the value of spam is assigned as 10. And if we print spam it will give 10 , hence it's a declaration.\n",
        "\n",
        "If we wish to perform any operations such as spam*spam , spam + 10, spam+spam, etc., then it will become as expression.\n"
      ],
      "metadata": {
        "id": "5WTfpUo6Dq32"
      }
    },
    {
      "cell_type": "markdown",
      "source": [
        "**6. After running the following code, what does the variable bacon contain?\n",
        "bacon = 22\n",
        "bacon + 1**\n",
        "\n"
      ],
      "metadata": {
        "id": "tugl_jlEDqvr"
      }
    },
    {
      "cell_type": "code",
      "source": [
        "bacon = 22\n",
        "bacon + 1"
      ],
      "metadata": {
        "colab": {
          "base_uri": "https://localhost:8080/"
        },
        "id": "pW548_PyK_Sj",
        "outputId": "22566dd4-c15a-472c-f0ec-0eb794737112"
      },
      "execution_count": null,
      "outputs": [
        {
          "output_type": "execute_result",
          "data": {
            "text/plain": [
              "23"
            ]
          },
          "metadata": {},
          "execution_count": 3
        }
      ]
    },
    {
      "cell_type": "markdown",
      "source": [
        "**7. What should the values of the following two terms be?\n",
        "'spam' + 'spamspam' \n",
        "'spam' * 3**\n"
      ],
      "metadata": {
        "id": "Mc5YXtETDqnL"
      }
    },
    {
      "cell_type": "code",
      "source": [
        "\"spam\" + \"spamspam\"\n"
      ],
      "metadata": {
        "colab": {
          "base_uri": "https://localhost:8080/",
          "height": 35
        },
        "id": "xgCbD6MkLmgE",
        "outputId": "88c274a2-2459-468c-d3c5-aab7c5c03c0d"
      },
      "execution_count": null,
      "outputs": [
        {
          "output_type": "execute_result",
          "data": {
            "application/vnd.google.colaboratory.intrinsic+json": {
              "type": "string"
            },
            "text/plain": [
              "'spamspamspam'"
            ]
          },
          "metadata": {},
          "execution_count": 5
        }
      ]
    },
    {
      "cell_type": "code",
      "source": [
        "\"spam\"*3"
      ],
      "metadata": {
        "colab": {
          "base_uri": "https://localhost:8080/",
          "height": 35
        },
        "id": "L6gMS6JZL5tm",
        "outputId": "9ead5b8c-fe7b-44e6-cf95-ff6df5a5c25e"
      },
      "execution_count": null,
      "outputs": [
        {
          "output_type": "execute_result",
          "data": {
            "application/vnd.google.colaboratory.intrinsic+json": {
              "type": "string"
            },
            "text/plain": [
              "'spamspamspam'"
            ]
          },
          "metadata": {},
          "execution_count": 6
        }
      ]
    },
    {
      "cell_type": "markdown",
      "source": [
        "**8. Why is eggs a valid variable name while 100 is invalid?**\n",
        "\n",
        "ANS - A variable in python must start with a letter or underscore. as eggs is starts with letter \"e\" it is valid and 100 is not a letter so it becomes invalid as variable.\n",
        " "
      ],
      "metadata": {
        "id": "QT1z6NIsDlYI"
      }
    },
    {
      "cell_type": "markdown",
      "source": [
        "**9. What three functions can be used to get the integer, floating-point number, or string version of a value?**\n",
        "\n",
        "ANS - str() - used to convert into string\n",
        "\n",
        "int() - used to convert into integer\n",
        "\n",
        "float() - used to convert into floating-point"
      ],
      "metadata": {
        "id": "YhdiVgoUMpzR"
      }
    },
    {
      "cell_type": "markdown",
      "source": [
        "**10. Why does this expression cause an error? How can you fix it?\n",
        "'I have eaten ' + 99 + ' burritos.'**\n",
        "\n",
        "ANS - As in the given example 99 is given as an integer and integer cannot be concanated with the string , so we need to do typecasting to get the ans."
      ],
      "metadata": {
        "id": "fgBKh45xMqaC"
      }
    },
    {
      "cell_type": "code",
      "source": [
        "a = \"I have eaten \"\n",
        "b =  str(99)\n",
        "\n",
        "c = \" burritos \"\n",
        "a+b+c"
      ],
      "metadata": {
        "colab": {
          "base_uri": "https://localhost:8080/",
          "height": 35
        },
        "id": "ZQx41955SLC8",
        "outputId": "46d30ce4-452a-4136-81a7-0463aa68c3c7"
      },
      "execution_count": 13,
      "outputs": [
        {
          "output_type": "execute_result",
          "data": {
            "application/vnd.google.colaboratory.intrinsic+json": {
              "type": "string"
            },
            "text/plain": [
              "'I have eaten 99 burritos '"
            ]
          },
          "metadata": {},
          "execution_count": 13
        }
      ]
    },
    {
      "cell_type": "code",
      "source": [
        ""
      ],
      "metadata": {
        "id": "ChaD78blSW2g"
      },
      "execution_count": null,
      "outputs": []
    }
  ]
}