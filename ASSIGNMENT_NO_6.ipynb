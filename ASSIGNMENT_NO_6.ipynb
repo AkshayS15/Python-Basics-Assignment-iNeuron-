{
  "nbformat": 4,
  "nbformat_minor": 0,
  "metadata": {
    "colab": {
      "name": "ASSIGNMENT NO. 6.ipynb",
      "provenance": [],
      "collapsed_sections": []
    },
    "kernelspec": {
      "name": "python3",
      "display_name": "Python 3"
    },
    "language_info": {
      "name": "python"
    }
  },
  "cells": [
    {
      "cell_type": "markdown",
      "source": [
        "**1. What are escape characters, and how do you use them?**  \n",
        "ANS - Escape characters are the characters which is difficult or impossible to type in the code with the strings"
      ],
      "metadata": {
        "id": "T6uZNha6Q-8-"
      }
    },
    {
      "cell_type": "code",
      "source": [
        "# Following are some of the types of escape characters\n",
        "print(\"Avengers, \\nAssemble\") #New Line\n",
        "print(\"Avengers,\\rAssemble\") #Carriage return\n",
        "print(\"Avengers, \\tAssemble\") #Tab\n",
        "print('I can do this all \\'day\\'') #Single quote\n",
        "print(\"That's my secret \\\"Captain\\\", I am always \\\"Angry\\\"\") #Double quote\n"
      ],
      "metadata": {
        "colab": {
          "base_uri": "https://localhost:8080/"
        },
        "id": "aXbmDdRWRaXw",
        "outputId": "ab5a65c4-9bfd-48e6-abcb-13460146156e"
      },
      "execution_count": 24,
      "outputs": [
        {
          "output_type": "stream",
          "name": "stdout",
          "text": [
            "Avengers, \n",
            "Assemble\n",
            "Avengers,\rAssemble\n",
            "Avengers, \tAssemble\n",
            "I can do this all 'day'\n",
            "That's my secret \"Captain\", I am always \"Angry\"\n"
          ]
        }
      ]
    },
    {
      "cell_type": "markdown",
      "source": [
        "**2. What do the escape characters n and t stand for?**  \n",
        "ANS - \"\\n\" stands for new line and \"\\t\" stands for tab."
      ],
      "metadata": {
        "id": "8frSJ3aCRjZa"
      }
    },
    {
      "cell_type": "markdown",
      "source": [
        "**3. What is the way to include backslash characters in a string?**  \n",
        "ANS - The \\\\ character is helpful to include backlash characters in string."
      ],
      "metadata": {
        "id": "f2aDZHrjR5XY"
      }
    },
    {
      "cell_type": "code",
      "source": [
        "s = \"This is how we use \\\\ backlash in string\"\n",
        "print(s)"
      ],
      "metadata": {
        "colab": {
          "base_uri": "https://localhost:8080/"
        },
        "id": "FQlP34N-S1eM",
        "outputId": "70139596-f121-4e1f-9c6a-896dab948293"
      },
      "execution_count": 3,
      "outputs": [
        {
          "output_type": "stream",
          "name": "stdout",
          "text": [
            "This is how we use \\ backlash in string\n"
          ]
        }
      ]
    },
    {
      "cell_type": "markdown",
      "source": [
        "**4. The string \"Howl's Moving Castle\" is a correct value. Why isn't the single quote character in the word Howl's not escaped a problem?**  \n",
        "ANS - As we have already used double quotes at the start and end of the string so signle quote in Howl's will not create any problem."
      ],
      "metadata": {
        "id": "_tkNk7cdTS8g"
      }
    },
    {
      "cell_type": "markdown",
      "source": [
        "**5. How do you write a string of newlines if you don't want to use the n character?**  \n",
        "ANS - With using multiline strings we can write strings in new line withot using \"\\n\" character."
      ],
      "metadata": {
        "id": "Bx7tN39DTw6y"
      }
    },
    {
      "cell_type": "code",
      "source": [
        "print('''How's the Josh \n",
        "High sir\n",
        "Avengers \n",
        "Assemble''')"
      ],
      "metadata": {
        "colab": {
          "base_uri": "https://localhost:8080/"
        },
        "id": "WfJHHl38Uhhk",
        "outputId": "ad4656e5-07cd-4153-c9fd-a7996deabf58"
      },
      "execution_count": 6,
      "outputs": [
        {
          "output_type": "stream",
          "name": "stdout",
          "text": [
            "How's the Josh \n",
            "High sir\n",
            "Avengers \n",
            "Assemble\n"
          ]
        }
      ]
    },
    {
      "cell_type": "markdown",
      "source": [
        "**6. What are the values of the given expressions?\n",
        "'Hello, world!'[1]\n",
        "'Hello, world!'[0:5]\n",
        "'Hello, world!'[:5]\n",
        "'Hello, world!'[3:]**\n"
      ],
      "metadata": {
        "id": "f45NBDD3V4Rx"
      }
    },
    {
      "cell_type": "code",
      "source": [
        "print('Hello, world!'[1])\n",
        "print('Hello, world!'[0:5])\n",
        "print('Hello, world!'[:5])\n",
        "print('Hello, world!'[3:])\n"
      ],
      "metadata": {
        "colab": {
          "base_uri": "https://localhost:8080/"
        },
        "id": "uhCrCH49V-Uv",
        "outputId": "cecbe989-5ae2-4900-cc81-156ddc243e12"
      },
      "execution_count": 8,
      "outputs": [
        {
          "output_type": "stream",
          "name": "stdout",
          "text": [
            "e\n",
            "Hello\n",
            "Hello\n",
            "lo, world!\n"
          ]
        }
      ]
    },
    {
      "cell_type": "markdown",
      "source": [
        "**7. What are the values of the following expressions?\n",
        "'Hello'.upper()\n",
        "'Hello'.upper().isupper()\n",
        "'Hello'.upper().lower()**  \n",
        "ANS - \n"
      ],
      "metadata": {
        "id": "b3gDC1ubWk1h"
      }
    },
    {
      "cell_type": "code",
      "source": [
        "print('Hello'.upper())\n",
        "print('Hello'.upper().isupper())\n",
        "print('Hello'.upper().lower())"
      ],
      "metadata": {
        "colab": {
          "base_uri": "https://localhost:8080/"
        },
        "id": "7_XWwfiZWy7z",
        "outputId": "af99557e-d692-418a-9a31-1f019df69c80"
      },
      "execution_count": 9,
      "outputs": [
        {
          "output_type": "stream",
          "name": "stdout",
          "text": [
            "HELLO\n",
            "True\n",
            "hello\n"
          ]
        }
      ]
    },
    {
      "cell_type": "markdown",
      "source": [
        "**8. What are the values of the following expressions?\n",
        "'Remember, remember, the fifth of July.'.split()\n",
        "'-'.join('There can only one.'.split())**\n"
      ],
      "metadata": {
        "id": "HeUyYo0aW8XA"
      }
    },
    {
      "cell_type": "code",
      "source": [
        "print('Remember, remember, the fifth of July.'.split())\n",
        "print('-'.join('There can only one.'.split()))"
      ],
      "metadata": {
        "colab": {
          "base_uri": "https://localhost:8080/"
        },
        "id": "c8np4zUjXC9d",
        "outputId": "a3e41b7a-0e92-49b4-eaef-94be79b023e3"
      },
      "execution_count": 10,
      "outputs": [
        {
          "output_type": "stream",
          "name": "stdout",
          "text": [
            "['Remember,', 'remember,', 'the', 'fifth', 'of', 'July.']\n",
            "There-can-only-one.\n"
          ]
        }
      ]
    },
    {
      "cell_type": "markdown",
      "source": [
        "**9. What are the methods for right-justifying, left-justifying, and centering a string?**  \n",
        "ANS - rjust(),ljust() and center() are the methods for right-justifying ,left-justifying and centering a string respectively."
      ],
      "metadata": {
        "id": "qIPEMO73XQ2u"
      }
    },
    {
      "cell_type": "code",
      "source": [
        "s1 = \"right\"\n",
        "s2 = \"left\"\n",
        "s3 = \"cenetr\"\n",
        "\n",
        "print(s1.rjust(25))\n",
        "print(s2.ljust(50))\n",
        "print(s3.center(25))"
      ],
      "metadata": {
        "colab": {
          "base_uri": "https://localhost:8080/"
        },
        "id": "e-ELQUNzZ8DX",
        "outputId": "9aab2dba-8c68-46e0-8eed-ab8fe5a3b6a0"
      },
      "execution_count": 12,
      "outputs": [
        {
          "output_type": "stream",
          "name": "stdout",
          "text": [
            "                    right\n",
            "left                                              \n",
            "          cenetr         \n"
          ]
        }
      ]
    },
    {
      "cell_type": "markdown",
      "source": [
        "**10. What is the best way to remove whitespace characters from the start or end?**  \n",
        "ANS - lstrip and rstrip are methods to remove the whitespace from the the start and end of the string respectively."
      ],
      "metadata": {
        "id": "BnMvkWQXagR4"
      }
    },
    {
      "cell_type": "code",
      "source": [
        "s1 = \"  It'll kill you\"\n",
        "s1.lstrip()\n"
      ],
      "metadata": {
        "colab": {
          "base_uri": "https://localhost:8080/",
          "height": 35
        },
        "id": "PEvjroY1aXA9",
        "outputId": "95cec177-4331-4572-f38e-e8b5df50e144"
      },
      "execution_count": 14,
      "outputs": [
        {
          "output_type": "execute_result",
          "data": {
            "text/plain": [
              "\"It'll kill you\""
            ],
            "application/vnd.google.colaboratory.intrinsic+json": {
              "type": "string"
            }
          },
          "metadata": {},
          "execution_count": 14
        }
      ]
    },
    {
      "cell_type": "code",
      "source": [
        "s2 = \"Only if I die   \"\n",
        "s2.rstrip()"
      ],
      "metadata": {
        "colab": {
          "base_uri": "https://localhost:8080/",
          "height": 35
        },
        "id": "JddoHVvbiPlU",
        "outputId": "684404f8-2336-47f0-ec21-9da20c37d010"
      },
      "execution_count": 15,
      "outputs": [
        {
          "output_type": "execute_result",
          "data": {
            "text/plain": [
              "'Only if I die'"
            ],
            "application/vnd.google.colaboratory.intrinsic+json": {
              "type": "string"
            }
          },
          "metadata": {},
          "execution_count": 15
        }
      ]
    },
    {
      "cell_type": "code",
      "source": [
        ""
      ],
      "metadata": {
        "id": "EPyXDU2liXp-"
      },
      "execution_count": null,
      "outputs": []
    }
  ]
}