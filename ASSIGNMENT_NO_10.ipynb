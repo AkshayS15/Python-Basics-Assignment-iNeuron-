{
  "nbformat": 4,
  "nbformat_minor": 0,
  "metadata": {
    "colab": {
      "name": "ASSIGNMENT NO.10.ipynb",
      "provenance": [],
      "collapsed_sections": []
    },
    "kernelspec": {
      "name": "python3",
      "display_name": "Python 3"
    },
    "language_info": {
      "name": "python"
    }
  },
  "cells": [
    {
      "cell_type": "markdown",
      "source": [
        "**1. How do you distinguish between shutil.copy() and shutil.copytree()?**  \n",
        "ANS - shutil.copy() - Copies a single file.  \n",
        "shutil.copytree() - Copies entire folder with all files and folders within it."
      ],
      "metadata": {
        "id": "c7YFMs1dU4Yh"
      }
    },
    {
      "cell_type": "markdown",
      "source": [
        "**2. What function is used to rename files??**  \n",
        "ANS -  os.renmae() is the function which is used to renmae files."
      ],
      "metadata": {
        "id": "4B0TSfrdWg78"
      }
    },
    {
      "cell_type": "markdown",
      "source": [
        "**3. What is the difference between the delete functions in the send2trash and shutil modules?**  \n",
        "ANS - send2trash function send the file or folder to a recycle bin .  \n",
        "While shutil modules will permanantely delete the file or folder."
      ],
      "metadata": {
        "id": "LsvLDtpVXFqv"
      }
    },
    {
      "cell_type": "markdown",
      "source": [
        "**4.ZipFile objects have a close() method just like File objects’ close() method. What ZipFile method is equivalent to File objects’ open() method?**  \n",
        "ANS - In case of zipfille ZipFile(\"xyz\", \"w\") function is equivalent to open() fuction while the first argument is the file name and second argument is the mode with which we want to open the file i.e. read,write or append."
      ],
      "metadata": {
        "id": "rH9_rSRTX-qe"
      }
    },
    {
      "cell_type": "markdown",
      "source": [
        "**5. Create a programme that searches a folder tree for files with a certain file extension (such as .pdf or .jpg). Copy these files from whatever location they are in to a new folder.**  \n",
        "ANS - "
      ],
      "metadata": {
        "id": "I6mvOANlZpuX"
      }
    },
    {
      "cell_type": "code",
      "source": [
        "import os, shutil\n",
        "\n",
        "def selectiveCopy(folder, extensions, destFolder):\n",
        "\tfolder = os.path.abspath(folder)\n",
        "\tdestFolder = os.path.abspath(destFolder)\n",
        "\tprint('Looking in', folder, 'for files with extensions of', ', '.join(extensions))\n",
        "\tfor foldername, subfolders, filenames in os.walk(folder):\n",
        "\t\tfor filename in filenames:\n",
        "\t\t\tname, extension = os.path.splitext(filename)\n",
        "\t\t\tif extension in extensions:\n",
        "\t\t\t\tfileAbsPath = foldername + os.path.sep + filename\n",
        "\t\t\t\tprint('Coping', fileAbsPath, 'to', destFolder)\n",
        "\t\t\t\tshutil.copy(fileAbsPath, destFolder)\n",
        "\n",
        "extensions = ['.mp4', '.pdf','.jpg']\n",
        "folder = \"C:\\\\books\"\n",
        "destFolder = \"C:\\\\books\\\\dest\"\n",
        "selectiveCopy(folder, extensions, destFolder)"
      ],
      "metadata": {
        "colab": {
          "base_uri": "https://localhost:8080/"
        },
        "id": "yhkfJTlYb8EW",
        "outputId": "ec563df0-5f0b-4c98-f9ff-003c51f81702"
      },
      "execution_count": 4,
      "outputs": [
        {
          "output_type": "stream",
          "name": "stdout",
          "text": [
            "Looking in /content/C:\\books for files with extensions of .mp4, .pdf, .jpg\n"
          ]
        }
      ]
    }
  ]
}