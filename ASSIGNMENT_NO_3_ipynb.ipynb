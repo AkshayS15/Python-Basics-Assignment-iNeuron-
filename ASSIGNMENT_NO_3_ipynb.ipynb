{
  "nbformat": 4,
  "nbformat_minor": 0,
  "metadata": {
    "colab": {
      "name": "ASSIGNMENT NO.3. ipynb",
      "provenance": [],
      "collapsed_sections": []
    },
    "kernelspec": {
      "name": "python3",
      "display_name": "Python 3"
    },
    "language_info": {
      "name": "python"
    }
  },
  "cells": [
    {
      "cell_type": "markdown",
      "source": [
        "**1. Why are functions advantageous to have in your programs?**  \n",
        "ANS - Function helps to reduce the repitation of the codes which result in shorter programs, easy to read and update."
      ],
      "metadata": {
        "id": "9ocDROLIob9K"
      }
    },
    {
      "cell_type": "markdown",
      "source": [
        "**2. When does the code in a function run: when it's specified or when it's called?**  \n",
        "ANS - The code in function runs when it is called, not when it is specified."
      ],
      "metadata": {
        "id": "rRWxZJMmpBzl"
      }
    },
    {
      "cell_type": "markdown",
      "source": [
        "**3. What statement creates a function?**  \n",
        "ANS - def statement creates the function."
      ],
      "metadata": {
        "id": "QeyDA1yopWtj"
      }
    },
    {
      "cell_type": "markdown",
      "source": [
        "**4. What is the difference between a function and a function call?**  \n",
        "ANS - Function is statement consisting def statement and the code within the statement.  \n",
        "Function call is caling the specific function which will execute the code within that function."
      ],
      "metadata": {
        "id": "N9-6BwZypjFT"
      }
    },
    {
      "cell_type": "markdown",
      "source": [
        "**5. How many global scopes are there in a Python program? How many local scopes?**  \n",
        "ANS - There is only one global scope in python.   \n",
        "And the loacl scope is created whenever we call the function."
      ],
      "metadata": {
        "id": "EUPwKvLAqeJI"
      }
    },
    {
      "cell_type": "markdown",
      "source": [
        "**6. What happens to variables in a local scope when the function call returns?**  \n",
        "ANS - After the function returns, local scope is destroyed. And all the variables are forgotten and can be use outside the function."
      ],
      "metadata": {
        "id": "J8TdrOCEq16u"
      }
    },
    {
      "cell_type": "markdown",
      "source": [
        "**7. What is the concept of a return value? Is it possible to have a return value in an expression?**  \n",
        "ANS - The value which function call evaluates is called as return value. It can be in the form of expression."
      ],
      "metadata": {
        "id": "8BEYDJvgrf2s"
      }
    },
    {
      "cell_type": "markdown",
      "source": [
        "**8. If a function does not have a return statement, what is the return value of a call to that function?**  \n",
        "ANS - If there is no return value for function, the it is called as \"none\" type value."
      ],
      "metadata": {
        "id": "Q58G02HhsA5m"
      }
    },
    {
      "cell_type": "markdown",
      "source": [
        "**9. How do you make a function variable refer to the global variable?**  \n",
        "ANS - If you want to refer global variable in function you can use global statement to declae the variable as global."
      ],
      "metadata": {
        "id": "OR2h9K3gsUJw"
      }
    },
    {
      "cell_type": "markdown",
      "source": [
        "**10. What is the data type of None?**  \n",
        "ANS - The date type of None is \"NoneType\"."
      ],
      "metadata": {
        "id": "VmJ0_tKxtJpr"
      }
    },
    {
      "cell_type": "markdown",
      "source": [
        "**11. What does the sentence import areallyourpetsnamederic do?**  \n",
        "ANS - The import statement will import a pyhton module named as \"areallyourpetsnamederic\". (This is not any original module)"
      ],
      "metadata": {
        "id": "vcV7vFG-tUEw"
      }
    },
    {
      "cell_type": "markdown",
      "source": [
        "**12. If you had a bacon() feature in a spam module, what would you call it after importing spam?**  \n",
        "ANS - The function can be called with -  \n",
        " spam.bacon()"
      ],
      "metadata": {
        "id": "ZjYrxNs1ujmQ"
      }
    },
    {
      "cell_type": "markdown",
      "source": [
        "**13. What can you do to save a programme from crashing if it encounters an error?**  \n",
        "ANS - We can save the program from clashing by placing the line of code under try clause which can cause crashing of program."
      ],
      "metadata": {
        "id": "1sXxUU0Vu57L"
      }
    },
    {
      "cell_type": "markdown",
      "source": [
        "**14. What is the purpose of the try clause? What is the purpose of the except clause?**  \n",
        "ANS - The code which can potentially cause an error in program goes under a try clause.  \n",
        "Ans the code which executes if error happens goes under except clause.\n"
      ],
      "metadata": {
        "id": "no8H0A0Vvazh"
      }
    },
    {
      "cell_type": "code",
      "source": [
        ""
      ],
      "metadata": {
        "id": "8ddH_UgVxJeX"
      },
      "execution_count": null,
      "outputs": []
    }
  ]
}