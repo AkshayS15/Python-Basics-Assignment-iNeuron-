{
  "nbformat": 4,
  "nbformat_minor": 0,
  "metadata": {
    "colab": {
      "name": "ASSIGNMENT NO.23.ipynb",
      "provenance": [],
      "collapsed_sections": []
    },
    "kernelspec": {
      "name": "python3",
      "display_name": "Python 3"
    },
    "language_info": {
      "name": "python"
    }
  },
  "cells": [
    {
      "cell_type": "markdown",
      "source": [
        "**1. What is the result of the code, and why?  \n",
        "def func(a, b=6, c=8):  \n",
        "print(a, b, c)  \n",
        " func(1, 2)**  \n",
        "ANS - The answer of the code is **1 2 8** . As the assigned value for a is 1 and b is 2 and the default value of c is 8. Hence **1 2 8**  is printed."
      ],
      "metadata": {
        "id": "zX9Y_80-yBKe"
      }
    },
    {
      "cell_type": "code",
      "source": [
        "def func(a,b=6,c=8):\n",
        "    print(a,b,c)\n",
        "func(1,2)"
      ],
      "metadata": {
        "colab": {
          "base_uri": "https://localhost:8080/"
        },
        "id": "9FUs0vKqydjC",
        "outputId": "caa70547-79f0-48bc-aff9-f3a3422ac6d1"
      },
      "execution_count": 3,
      "outputs": [
        {
          "output_type": "stream",
          "name": "stdout",
          "text": [
            "1 2 8\n"
          ]
        }
      ]
    },
    {
      "cell_type": "markdown",
      "source": [
        "**2. What is the result of this code, and why?  \n",
        "def func(a, b, c=5):  \n",
        "print(a, b, c)  \n",
        "func(1, c=3, b=2)**  \n",
        "ANS - The result of the code is **1 2 3**. Here the ssigned values for arguments a,b,c are 1,2,3 respectively so function will not use it's default values and also order of argumnets don't matter while passing values to the arguments. "
      ],
      "metadata": {
        "id": "oTjfzvmZy_hV"
      }
    },
    {
      "cell_type": "code",
      "source": [
        "def func(a,b,c=5):\n",
        "  print(a,b,c)\n",
        "func(1,c=3,b=2)"
      ],
      "metadata": {
        "colab": {
          "base_uri": "https://localhost:8080/"
        },
        "id": "b23fd4WxzIn_",
        "outputId": "6b29fe78-fa86-44fc-e94a-19cbfe554ffb"
      },
      "execution_count": 2,
      "outputs": [
        {
          "output_type": "stream",
          "name": "stdout",
          "text": [
            "1 2 3\n"
          ]
        }
      ]
    },
    {
      "cell_type": "markdown",
      "source": [
        "**3. How about this code: what is its result, and why?  \n",
        "def func(a, *pargs):  \n",
        "print(a, pargs)  \n",
        "func(1, 2, 3)**  \n",
        "ANS - The result of given code is **1 (2, 3)**. *pargs stands for variable length arguments.Thisformat is used when we are not sure about the no of argumnets to be passed. It gives the output as tuple.  "
      ],
      "metadata": {
        "id": "mxdDpTjn14iU"
      }
    },
    {
      "cell_type": "code",
      "source": [
        "def func(a,*pargs):\n",
        "  print(a,pargs)\n",
        "func(1,2,3)"
      ],
      "metadata": {
        "colab": {
          "base_uri": "https://localhost:8080/"
        },
        "id": "OCDMd-SN2CMl",
        "outputId": "6eac2eb1-d220-4516-9dbd-f87211b81586"
      },
      "execution_count": 6,
      "outputs": [
        {
          "output_type": "stream",
          "name": "stdout",
          "text": [
            "1 (2, 3)\n"
          ]
        }
      ]
    },
    {
      "cell_type": "markdown",
      "source": [
        "**4. What does this code print, and why?  \n",
        "def func(a, **kargs):  \n",
        "  print(a, kargs)  \n",
        "func(a=1, c=3, b=2)**  \n",
        "ANS - The output of this code is **1 {'c': 3, 'b': 2}** . As the value for argument a is assigned as 1 and *kargs fromat is used to insert a values as key values pairs. Hence the output is   *1 {'c': 3, 'b': 2}**"
      ],
      "metadata": {
        "id": "EmJ9KjYO3NkR"
      }
    },
    {
      "cell_type": "code",
      "source": [
        "def func(a, **kargs):  \n",
        "  print(a, kargs)  \n",
        "func(a=1, c=3, b=2)"
      ],
      "metadata": {
        "colab": {
          "base_uri": "https://localhost:8080/"
        },
        "id": "YZk2yKpW3Xr-",
        "outputId": "613ce44a-28f6-408c-bbc6-3353f5e2a61d"
      },
      "execution_count": 8,
      "outputs": [
        {
          "output_type": "stream",
          "name": "stdout",
          "text": [
            "1 {'c': 3, 'b': 2}\n"
          ]
        }
      ]
    },
    {
      "cell_type": "markdown",
      "source": [
        "**5. What gets printed by this, and explain?  \n",
        "def func(a, b, c=8, d=5):  \n",
        "print(a, b, c, d)  \n",
        "func(1, *(5, 6))**    \n",
        "ANS - The result of the code is **1 5 6 5**. * is the unpacking operator in python. This operator will unpack the value of (5,6) and these values will be assigned to b and c resp. And the default value of d is 5.Hence the output is **1 5 6 5**."
      ],
      "metadata": {
        "id": "zPkn0enA4f3g"
      }
    },
    {
      "cell_type": "code",
      "source": [
        "def func(a,b,c=8,d=5):\n",
        "  print(a,b,c,d)\n",
        "func(1,*(5,6))"
      ],
      "metadata": {
        "colab": {
          "base_uri": "https://localhost:8080/"
        },
        "id": "kg_MhBIM4p15",
        "outputId": "6c24a2cc-a0fe-445d-ec75-8f1ae5181029"
      },
      "execution_count": 10,
      "outputs": [
        {
          "output_type": "stream",
          "name": "stdout",
          "text": [
            "1 5 6 5\n"
          ]
        }
      ]
    },
    {
      "cell_type": "markdown",
      "source": [
        "**6. what is the result of this, and explain?  \n",
        "def func(a, b, c):  \n",
        "a = 2; b[0] = 'x'; c['a'] = 'y'  \n",
        "l=1; m=[1]; n={'a':0}  \n",
        "print(l,m,n)  \n",
        "func(l, m, n)  \n",
        "l, m, n**  \n",
        "ANS - Ans: The output of above code is **1, ['x'], {'a': 'y'}**.\n",
        "Eventhough Python gives importance to indentation. its provides a facility to declare an entire function in one single line. where statements in a function body are sepereated by ;\n",
        "When l,m,n are provided as inputs to the function. its modifies the values of **l,m,n** and sets the value of **l=2 ,m=['x'] and n={'a':'y'}**"
      ],
      "metadata": {
        "id": "dPRI_CdF6kTv"
      }
    },
    {
      "cell_type": "code",
      "source": [
        "def func(a, b, c): a = 2; b[0] = 'x'; c['a'] = 'y'\n",
        "l=1; m=[1]; n={'a':0}\n",
        "func(l, m, n)\n",
        "l,m,n"
      ],
      "metadata": {
        "colab": {
          "base_uri": "https://localhost:8080/"
        },
        "id": "Cu32_YgY65Po",
        "outputId": "6759d1d9-2fde-4e12-d98c-df4293178d1c"
      },
      "execution_count": 11,
      "outputs": [
        {
          "output_type": "execute_result",
          "data": {
            "text/plain": [
              "(1, ['x'], {'a': 'y'})"
            ]
          },
          "metadata": {},
          "execution_count": 11
        }
      ]
    }
  ]
}