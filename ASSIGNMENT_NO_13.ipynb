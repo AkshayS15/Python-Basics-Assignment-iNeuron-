{
  "nbformat": 4,
  "nbformat_minor": 0,
  "metadata": {
    "colab": {
      "name": "ASSIGNMENT NO.13.ipynb",
      "provenance": []
    },
    "kernelspec": {
      "name": "python3",
      "display_name": "Python 3"
    },
    "language_info": {
      "name": "python"
    }
  },
  "cells": [
    {
      "cell_type": "markdown",
      "source": [
        "**1. What advantages do Excel spreadsheets have over CSV spreadsheets?**  \n",
        "Ans - 1.Files saved in excel cannot be edited in any text editor.  \n",
        "2. In Excel we can store data as well as can perfrom operations on data.  \n",
        "3. Data analysis and Data ,manipulation can be done by excel spreadsheet effectively.  \n",
        "4. We can store the data in excel in the form of bars, graphs and charts.  \n",
        "5. Excel can be connected to external data source."
      ],
      "metadata": {
        "id": "yVGsA_iPvkaA"
      }
    },
    {
      "cell_type": "markdown",
      "source": [
        "**2.What do you pass to csv.reader() and csv.writer() to create reader and writer objects?**  \n",
        "ANS - "
      ],
      "metadata": {
        "id": "ygy8pdcTx9jG"
      }
    },
    {
      "cell_type": "code",
      "source": [
        "#import csv module \n",
        "import csv \n",
        "\n",
        "#csv.reader() \n",
        "\n",
        "with open('sample_data.csv', 'r') as file :\n",
        "  reader = csv.reader(file)\n",
        "  for row in reader :\n",
        "    print(row)"
      ],
      "metadata": {
        "id": "UR3wgkuxy-U6"
      },
      "execution_count": null,
      "outputs": []
    },
    {
      "cell_type": "code",
      "source": [
        "#import csv module \n",
        "import csv \n",
        "\n",
        "#csv.wrirer()\n",
        "\n",
        "with open('sample_data.csv', 'r' , newline = '') as file :\n",
        "  writer = csv.writer(file)\n",
        "  writer.writerrow([\"Batman\" , \"Riddler\" , \"Superman\"])\n",
        "  writer.writerrow([1,2,3,5])"
      ],
      "metadata": {
        "id": "VgT3wGpr0ruR"
      },
      "execution_count": null,
      "outputs": []
    },
    {
      "cell_type": "markdown",
      "source": [
        "**3. What modes do File objects for reader and writer objects need to be opened in?**  \n",
        "ANS - Read binary ('rb') = For reader objects and Write binary('wb') = For writer objects"
      ],
      "metadata": {
        "id": "nEh9jiiy0jYE"
      }
    },
    {
      "cell_type": "markdown",
      "source": [
        "**4. What method takes a list argument and writes it to a CSV file?**  \n",
        "ANS - writerows() takes list argument and writes it to a csv file."
      ],
      "metadata": {
        "id": "Am2YtdtZ1H39"
      }
    },
    {
      "cell_type": "markdown",
      "source": [
        "**5. What do the keyword arguments delimiter and line terminator do?**  \n",
        "ANS - Delimeter - The delimiter argument changes the string used to separate cells in a row.   \n",
        "Lineterminator - The lineterminator argument changes the string used to separate rows."
      ],
      "metadata": {
        "id": "vyZMtjI71WXI"
      }
    },
    {
      "cell_type": "markdown",
      "source": [
        "**6. What function takes a string of JSON data and returns a Python data structure?**  \n",
        "ANS - json.loads() is the function we use."
      ],
      "metadata": {
        "id": "5E8lJO_e2OtJ"
      }
    },
    {
      "cell_type": "markdown",
      "source": [
        "**7. What function takes a Python data structure and returns a string of JSON data?**  \n",
        "ANS - json.dump() is the function we use."
      ],
      "metadata": {
        "id": "t9kWpXwF2cXd"
      }
    }
  ]
}