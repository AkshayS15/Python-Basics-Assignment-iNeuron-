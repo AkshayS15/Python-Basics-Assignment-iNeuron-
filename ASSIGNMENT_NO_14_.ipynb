{
  "nbformat": 4,
  "nbformat_minor": 0,
  "metadata": {
    "colab": {
      "name": "ASSIGNMENT NO.14 .ipynb",
      "provenance": [],
      "collapsed_sections": []
    },
    "kernelspec": {
      "name": "python3",
      "display_name": "Python 3"
    },
    "language_info": {
      "name": "python"
    }
  },
  "cells": [
    {
      "cell_type": "markdown",
      "source": [
        "**1. What does RGBA stand for?**  \n",
        "ANS - RGBA stands for Red,Green, Blue and Alpha(Transparency) respectively."
      ],
      "metadata": {
        "id": "p4fjjJObCuwN"
      }
    },
    {
      "cell_type": "markdown",
      "source": [
        "**2. From the Pillow module, how do you get the RGBA value of any images?**  \n",
        "ANS - "
      ],
      "metadata": {
        "id": "2IQbEF3uDG-y"
      }
    },
    {
      "cell_type": "code",
      "source": [
        "from PIL import ImageColor \n",
        "ImageColor.getcolor('red' , 'RGBA') \n",
        "ImageColor.getcolor('blue' , 'RGBA') "
      ],
      "metadata": {
        "id": "v6yuQmjJDRmc"
      },
      "execution_count": null,
      "outputs": []
    },
    {
      "cell_type": "markdown",
      "source": [
        "**3. What is a box tuple, and how does it work?**  \n",
        "ANS - It's a tuple value of four integers in which following contains -  \n",
        "left edge x-coordinate  \n",
        "top edge y-coordinate  \n",
        "The width  \n",
        "And the Height."
      ],
      "metadata": {
        "id": "uYhrIt0DDuXr"
      }
    },
    {
      "cell_type": "markdown",
      "source": [
        "**4. Use your image and load in notebook then, How can you find out the width and height of an Image object?**  \n",
        "ANS - "
      ],
      "metadata": {
        "id": "5Gzhun6aEfTI"
      }
    },
    {
      "cell_type": "code",
      "source": [
        "from PIL import Image \n",
        "myImage = Image.open('The-Batman-Wallpaper-4.jpg')\n",
        "w,h = myImage.size \n",
        "w,h"
      ],
      "metadata": {
        "colab": {
          "base_uri": "https://localhost:8080/"
        },
        "id": "7Bf4nlcqExWv",
        "outputId": "d6eb8615-9820-4472-e634-c4e78854948c"
      },
      "execution_count": 2,
      "outputs": [
        {
          "output_type": "execute_result",
          "data": {
            "text/plain": [
              "(1920, 1080)"
            ]
          },
          "metadata": {},
          "execution_count": 2
        }
      ]
    },
    {
      "cell_type": "markdown",
      "source": [
        "**5. What method would you call to get Image object for a 100×100 image, excluding the lower-left quarter of it?**  \n",
        "ANS - ImageObject.crop((0,50,50,50) This can do the work"
      ],
      "metadata": {
        "id": "5jd7SLobFbDp"
      }
    },
    {
      "cell_type": "markdown",
      "source": [
        "**6. After making changes to an Image object, how could you save it as an image file?**  \n",
        "ANS - ImageObject.save('New_Image.jpg') This can do the work."
      ],
      "metadata": {
        "id": "4mLSUkYXGIyV"
      }
    },
    {
      "cell_type": "markdown",
      "source": [
        "**7. What module contains Pillow’s shape-drawing code?**  \n",
        "ANS - The ImageDraw module contains Pillow's shape-drawing code."
      ],
      "metadata": {
        "id": "DUHIZ5SCGdiU"
      }
    },
    {
      "cell_type": "markdown",
      "source": [
        "**8. Image objects do not have drawing methods. What kind of object does? How do you get this kind of object?**  \n",
        "ANS - ImageDraw methods have drwaing method such as point() , line() and rectangle() ,etc.  \n",
        "The can be called by passing ImageDraw.Draw() function."
      ],
      "metadata": {
        "id": "eWyid_5KGp2W"
      }
    }
  ]
}