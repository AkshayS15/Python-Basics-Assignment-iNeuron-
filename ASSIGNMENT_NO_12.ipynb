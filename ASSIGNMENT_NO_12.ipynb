{
  "nbformat": 4,
  "nbformat_minor": 0,
  "metadata": {
    "colab": {
      "name": "ASSIGNMENT_NO.12.ipynb",
      "provenance": [],
      "collapsed_sections": []
    },
    "kernelspec": {
      "name": "python3",
      "display_name": "Python 3"
    },
    "language_info": {
      "name": "python"
    }
  },
  "cells": [
    {
      "cell_type": "markdown",
      "source": [
        "**1. In what modes should the PdfFileReader() and PdfFileWriter() File objects will be opened?**  \n",
        "ANS - For **PdfFileReader()** file objects should be opened in **rb ->** read binary mode, Whereas for **PdfFileWriter()** file objects should be opened in **wb ->** write binary mode."
      ],
      "metadata": {
        "id": "1Sq3irftkntg"
      }
    },
    {
      "cell_type": "markdown",
      "source": [
        "**2. From a PdfFileReader object, how do you get a Page object for page 5?**  \n",
        "ANS - **PdfFileReader** class provides a method called **getPage(page_no)** to get a page object.\n"
      ],
      "metadata": {
        "id": "cwAwUCG3kvu4"
      }
    },
    {
      "cell_type": "code",
      "source": [
        "# Sample Code:\n",
        "from PyPDF2 import PdfFileReader\n",
        "pdf_reader = PdfFileReader(file_path)\n",
        "for page in pdf_reader.getNumPages():\n",
        "    pdf_reader.getPage(page)"
      ],
      "metadata": {
        "id": "bozc6tAKqIL2"
      },
      "execution_count": null,
      "outputs": []
    },
    {
      "cell_type": "markdown",
      "source": [
        "**3. What PdfFileReader variable stores the number of pages in the PDF document?**  \n",
        "ANS - **getNumPages()** method of **PdfFileReader** class stores the no pages in a PDF document"
      ],
      "metadata": {
        "id": "yd4wWyXPoePV"
      }
    },
    {
      "cell_type": "code",
      "source": [
        "#Sample Code:\n",
        "from PyPDF2 import PdfFileReader\n",
        "pdf_reader = PdfFileReader(file_path)\n",
        "print(pdf_reader.getNumPages()) "
      ],
      "metadata": {
        "id": "J8IoRD9IonKI"
      },
      "execution_count": null,
      "outputs": []
    },
    {
      "cell_type": "markdown",
      "source": [
        "**4. If a PdfFileReader object’s PDF is encrypted with the password swordfish, what must you do before you can obtain Page objects from it?**  \n",
        "ANS - If a **PdfFileReader** object’s PDF is encrypted with the password **swordfish** and you're not aware of it. first read the Pdf using the PdfFileReader Class. PdfFileReader class provides a attribute called **isEncrypted** to check whether a pdf is encrypted or not. the method returns true if a pdf is encrypted and vice versa.\n",
        "if pdf is encrypted use the **decrypt()** method provided by PdfFileReader class first then try to read the contents/pages of the pdf, else PyPDF2 will raise the following error **PyPDF2.utils.PdfReadError: file has not been decrypted**"
      ],
      "metadata": {
        "id": "xO6PpTt-osKt"
      }
    },
    {
      "cell_type": "code",
      "source": [
        "#Sample Code:\n",
        "from PyPDF2 import PdfFileReader\n",
        "pdf_reader = PdfFileReader(file_path)\n",
        "if pdf_reader.isEncrypted: # to check whether the pdf is encrypted or not\n",
        "    pdf_reader.decrypt(\"swordfish\")\n",
        "for page in pdf_reader.pages:\n",
        "    print(page.extractText()) # to print the text data of a page from pdf"
      ],
      "metadata": {
        "id": "VLJ4TdkRo_QE"
      },
      "execution_count": null,
      "outputs": []
    },
    {
      "cell_type": "markdown",
      "source": [
        "**5. What methods do you use to rotate a page?**  \n",
        "ANS - PyPDF2 Package provides 2 methods to rotate a page:\n",
        "1. rotateClockWise() -> For Clockwise rotation\n",
        "2. rotateCounterClockWise() -> For Counter Clockwise rotation   \n",
        "The PyPDF2 package only allows you to rotate a page in increments of 90 degrees. You will receive an AssertionError otherwise."
      ],
      "metadata": {
        "id": "sJf9txdBpCBu"
      }
    },
    {
      "cell_type": "markdown",
      "source": [
        "**7. How do you obtain a list of Paragraph objects for a Document object that’s stored in a variable named doc?**  \n",
        "ANS - "
      ],
      "metadata": {
        "id": "ZIPEouRApNeY"
      }
    },
    {
      "cell_type": "code",
      "source": [
        "# Sample Program\n",
        "from docx import Document\n",
        "doc = Document(\"sample_file.docx\") # Path of the Docx file\n",
        "print(doc.paragraphs) # Prints the list of Paragraph objects for a Document\n",
        "for paragraph in doc.paragraphs:\n",
        "    print(paragraph.text) # Prints the text in the paragraph"
      ],
      "metadata": {
        "id": "EeVTRu09pctc"
      },
      "execution_count": null,
      "outputs": []
    },
    {
      "cell_type": "markdown",
      "source": [
        "**8. What type of object has bold, underline, italic, strike, and outline variables?**  \n",
        "ANS - **Run** object has bold, underline, italic, strike, and outline variables. The text in a Word document is more than just a string. It has font, size, color, and other styling information associated with it.\n",
        "\n",
        "A style in Word is a collection of these attributes. A Run object is a contiguous run of text with the same style. A new Run object is needed whenever the text style changes."
      ],
      "metadata": {
        "id": "YIM02_b-pe08"
      }
    },
    {
      "cell_type": "markdown",
      "source": [
        "**9. What is the difference between False, True, and None for the bold variable?**  \n",
        "ANS - "
      ],
      "metadata": {
        "id": "xHqDoA2Lplpw"
      }
    },
    {
      "cell_type": "code",
      "source": [
        "bold = True  # Style Set to Bold\n",
        "bold = False # Style Not Set to Bold\n",
        "bold = None # Style is Not Applicable"
      ],
      "metadata": {
        "id": "7yUje0ENpqms"
      },
      "execution_count": null,
      "outputs": []
    },
    {
      "cell_type": "markdown",
      "source": [
        "**10. How do you create a Document object for a new Word document?**  \n",
        "ANS - "
      ],
      "metadata": {
        "id": "aU4C1S9eptQb"
      }
    },
    {
      "cell_type": "code",
      "source": [
        "# Sample Program\n",
        "from docx import Document\n",
        "document = Document()\n",
        "document.add_paragraph(\"iNeuron Full Stack DataScience Course\")\n",
        "document.save('mydocument.docx')"
      ],
      "metadata": {
        "id": "_3NiIcVtpzbV"
      },
      "execution_count": null,
      "outputs": []
    },
    {
      "cell_type": "markdown",
      "source": [
        "**11. How do you add a paragraph with the text 'Hello, there!' to a Document object stored in a variable named doc?**  \n",
        "ANS - "
      ],
      "metadata": {
        "id": "oZj2K2EMp15V"
      }
    },
    {
      "cell_type": "code",
      "source": [
        "# Sample Program\n",
        "from docx import Document\n",
        "doc = Document()\n",
        "doc.add_paragraph('Hello, there!')\n",
        "doc.save('hello.docx')"
      ],
      "metadata": {
        "id": "Bwmd2OfBp7A3"
      },
      "execution_count": null,
      "outputs": []
    },
    {
      "cell_type": "markdown",
      "source": [
        "**12. What integers represent the levels of headings available in Word documents?**  \n",
        "ANS - The levels for a heading in a word document can be specified by using the **level** attribute inside the **add_heading** method. There are a total of 5 levels statring for 0 t0 4. where level 0 makes a headline with the horizontal line below the text, whereas the heading level 1 is the main heading. Similarly, the other headings are sub-heading with their's font-sizes in decreasing order."
      ],
      "metadata": {
        "id": "E5YEIwKWp8nI"
      }
    }
  ]
}