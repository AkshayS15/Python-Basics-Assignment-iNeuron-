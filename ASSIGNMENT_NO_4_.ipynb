{
  "nbformat": 4,
  "nbformat_minor": 0,
  "metadata": {
    "colab": {
      "name": "ASSIGNMENT NO. 4 .ipynb",
      "provenance": [],
      "collapsed_sections": []
    },
    "kernelspec": {
      "name": "python3",
      "display_name": "Python 3"
    },
    "language_info": {
      "name": "python"
    }
  },
  "cells": [
    {
      "cell_type": "markdown",
      "source": [
        "**1. What exactly is [ ]?**  \n",
        "ANS - This is empty list. which means a list which contains no items. it is similar as empty string \" \"."
      ],
      "metadata": {
        "id": "-3309Ar4aqaL"
      }
    },
    {
      "cell_type": "markdown",
      "source": [
        "**2. In a list of values stored in a variable called spam, how would you assign the value 'hello' as the third value? (Assume [2, 4, 6, 8, 10] are in spam.)**  \n",
        "ANS - "
      ],
      "metadata": {
        "id": "8DqWaQPhdhdS"
      }
    },
    {
      "cell_type": "code",
      "source": [
        "spam = [2,4,6,8,10]\n",
        "print(spam)"
      ],
      "metadata": {
        "colab": {
          "base_uri": "https://localhost:8080/"
        },
        "id": "VUPpM7PEd6ij",
        "outputId": "f65ba3ee-5017-4e80-e630-36869a96700a"
      },
      "execution_count": null,
      "outputs": [
        {
          "output_type": "stream",
          "name": "stdout",
          "text": [
            "[2, 4, 6, 8, 10]\n"
          ]
        }
      ]
    },
    {
      "cell_type": "code",
      "source": [
        "spam.insert(2,\"hello\")\n",
        "print(spam)"
      ],
      "metadata": {
        "colab": {
          "base_uri": "https://localhost:8080/"
        },
        "id": "eIUaeFEzeMoL",
        "outputId": "2dfe8516-8a4a-4640-bf60-40a34e6145cb"
      },
      "execution_count": null,
      "outputs": [
        {
          "output_type": "stream",
          "name": "stdout",
          "text": [
            "[2, 4, 'hello', 'hello', 6, 8, 10]\n"
          ]
        }
      ]
    },
    {
      "cell_type": "markdown",
      "source": [
        "**Let's pretend the spam includes the list ['a', 'b', 'c', 'd'] for the next three queries.**"
      ],
      "metadata": {
        "id": "RLsdYl0FedJ3"
      }
    },
    {
      "cell_type": "code",
      "source": [
        "spam = ['a', 'b', 'c', 'd'] "
      ],
      "metadata": {
        "id": "HHIHaquUepqW"
      },
      "execution_count": null,
      "outputs": []
    },
    {
      "cell_type": "markdown",
      "source": [
        "**3. What is the value of spam[int(int('3' * 2) / 11)]?**  \n",
        "ANS -"
      ],
      "metadata": {
        "id": "vctufmr8enzS"
      }
    },
    {
      "cell_type": "code",
      "source": [
        "print(spam[int(int(3*2/11))])"
      ],
      "metadata": {
        "colab": {
          "base_uri": "https://localhost:8080/"
        },
        "id": "rYEY4Q88ex6z",
        "outputId": "17cb55b2-0699-41d8-f8cf-8636e14e3206"
      },
      "execution_count": null,
      "outputs": [
        {
          "output_type": "stream",
          "name": "stdout",
          "text": [
            "a\n"
          ]
        }
      ]
    },
    {
      "cell_type": "markdown",
      "source": [
        "**4. What is the value of spam[-1]?**  \n",
        "ANS -"
      ],
      "metadata": {
        "id": "7G01fxq6fYE4"
      }
    },
    {
      "cell_type": "code",
      "source": [
        "spam[-1]"
      ],
      "metadata": {
        "colab": {
          "base_uri": "https://localhost:8080/",
          "height": 35
        },
        "id": "IAvXQ8tye74A",
        "outputId": "a097fd50-52e3-492b-cb80-479ce161acf0"
      },
      "execution_count": null,
      "outputs": [
        {
          "output_type": "execute_result",
          "data": {
            "application/vnd.google.colaboratory.intrinsic+json": {
              "type": "string"
            },
            "text/plain": [
              "'d'"
            ]
          },
          "metadata": {},
          "execution_count": 13
        }
      ]
    },
    {
      "cell_type": "markdown",
      "source": [
        "**5. What is the value of spam[:2]?**  \n",
        "ANS -"
      ],
      "metadata": {
        "id": "rnINHw-2fpED"
      }
    },
    {
      "cell_type": "code",
      "source": [
        "spam[:2]"
      ],
      "metadata": {
        "colab": {
          "base_uri": "https://localhost:8080/"
        },
        "id": "qahrp8gSfkjD",
        "outputId": "df8864c2-36a6-420b-fa2c-8ae89c77674a"
      },
      "execution_count": null,
      "outputs": [
        {
          "output_type": "execute_result",
          "data": {
            "text/plain": [
              "['a', 'b']"
            ]
          },
          "metadata": {},
          "execution_count": 14
        }
      ]
    },
    {
      "cell_type": "markdown",
      "source": [
        "**Let's pretend bacon has the list [3.14, 'cat,' 11, 'cat,' True] for the next three questions.**"
      ],
      "metadata": {
        "id": "34Alc4OEfy0y"
      }
    },
    {
      "cell_type": "code",
      "source": [
        "bacon = [3.14,\"cat\",11,\"cat\",True]"
      ],
      "metadata": {
        "id": "z0RREkV2f_2P"
      },
      "execution_count": null,
      "outputs": []
    },
    {
      "cell_type": "markdown",
      "source": [
        "**6. What is the value of bacon.index('cat')?**  \n",
        "ANS - "
      ],
      "metadata": {
        "id": "skKMgnrnf31J"
      }
    },
    {
      "cell_type": "code",
      "source": [
        "bacon.index(\"cat\")"
      ],
      "metadata": {
        "colab": {
          "base_uri": "https://localhost:8080/"
        },
        "id": "8khIg6Xyfxe9",
        "outputId": "5dd7bcb1-0ac6-465e-d52b-f69691149ac9"
      },
      "execution_count": null,
      "outputs": [
        {
          "output_type": "execute_result",
          "data": {
            "text/plain": [
              "1"
            ]
          },
          "metadata": {},
          "execution_count": 16
        }
      ]
    },
    {
      "cell_type": "markdown",
      "source": [
        "**7. How does bacon.append(99) change the look of the list value in bacon?**  \n",
        "ANS -"
      ],
      "metadata": {
        "id": "t6-bsASfgViO"
      }
    },
    {
      "cell_type": "code",
      "source": [
        "bacon.append(99)\n",
        "print(bacon)"
      ],
      "metadata": {
        "colab": {
          "base_uri": "https://localhost:8080/"
        },
        "id": "kleNTMwPgSnq",
        "outputId": "dbb1c7ee-aea5-4e5f-9127-a1a69d80fdb9"
      },
      "execution_count": null,
      "outputs": [
        {
          "output_type": "stream",
          "name": "stdout",
          "text": [
            "[3.14, 'cat', 11, 'cat', True, 99]\n"
          ]
        }
      ]
    },
    {
      "cell_type": "markdown",
      "source": [
        "**8. How does bacon.remove('cat') change the look of the list in bacon?**  \n",
        "ANS - "
      ],
      "metadata": {
        "id": "6eg2f6R1gfOT"
      }
    },
    {
      "cell_type": "code",
      "source": [
        "bacon.remove(\"cat\")\n",
        "print(bacon)"
      ],
      "metadata": {
        "colab": {
          "base_uri": "https://localhost:8080/"
        },
        "id": "DpOHE1Gngdej",
        "outputId": "4b0e8391-510c-4062-fd3c-9763d33d6f12"
      },
      "execution_count": null,
      "outputs": [
        {
          "output_type": "stream",
          "name": "stdout",
          "text": [
            "[3.14, 11, 'cat', True, 99]\n"
          ]
        }
      ]
    },
    {
      "cell_type": "markdown",
      "source": [
        "**9. What are the list concatenation and list replication operators?**  \n",
        "ANS - For list concatenation \"+\" operator is use. Which helps to join two lists end to end.\n",
        "For list replication \"*\" operator is used.\n",
        "Examples of concatenation and replication are as below - "
      ],
      "metadata": {
        "id": "2W4ZcMIag1L0"
      }
    },
    {
      "cell_type": "code",
      "source": [
        "#Concatenation\n",
        "l1 = [2,65,96,\"ROFL\", \"LOL\"]\n",
        "l2 = [56,89,True,\"Batman\"]\n",
        "print(l1+l2)\n"
      ],
      "metadata": {
        "colab": {
          "base_uri": "https://localhost:8080/"
        },
        "id": "35Ee6HWagqTC",
        "outputId": "e7cc497d-5760-40d4-c35d-691a4f6d6199"
      },
      "execution_count": null,
      "outputs": [
        {
          "output_type": "stream",
          "name": "stdout",
          "text": [
            "[2, 65, 96, 'ROFL', 'LOL', 56, 89, True, 'Batman']\n"
          ]
        }
      ]
    },
    {
      "cell_type": "code",
      "source": [
        "#replication\n",
        "l1*3"
      ],
      "metadata": {
        "colab": {
          "base_uri": "https://localhost:8080/"
        },
        "id": "449uWDBEibR8",
        "outputId": "c69d4686-8f3b-4d4c-f6d0-9798fffac1fa"
      },
      "execution_count": null,
      "outputs": [
        {
          "output_type": "execute_result",
          "data": {
            "text/plain": [
              "[2, 65, 96, 'ROFL', 'LOL', 2, 65, 96, 'ROFL', 'LOL', 2, 65, 96, 'ROFL', 'LOL']"
            ]
          },
          "metadata": {},
          "execution_count": 26
        }
      ]
    },
    {
      "cell_type": "markdown",
      "source": [
        "**10. What is difference between the list methods append() and insert()?**  \n",
        "ANS - With the help of append() we can insert values at the end of the list. While with the help of insert() we can insert values at any position.\n",
        "Examples are as follows-"
      ],
      "metadata": {
        "id": "URe310wKjP1s"
      }
    },
    {
      "cell_type": "code",
      "source": [
        "l2.append(\"Superman\")\n",
        "print(l2)"
      ],
      "metadata": {
        "colab": {
          "base_uri": "https://localhost:8080/"
        },
        "id": "6PyYZv8bkd6Z",
        "outputId": "9c818949-0b46-46eb-dd98-7bdde0e5ead8"
      },
      "execution_count": null,
      "outputs": [
        {
          "output_type": "stream",
          "name": "stdout",
          "text": [
            "[56, 89, True, 'Batman', 'Superman']\n"
          ]
        }
      ]
    },
    {
      "cell_type": "code",
      "source": [
        "l2.insert(3,\"Ironman\")"
      ],
      "metadata": {
        "id": "gh2JhIwwkm12"
      },
      "execution_count": null,
      "outputs": []
    },
    {
      "cell_type": "code",
      "source": [
        "print(l2)"
      ],
      "metadata": {
        "colab": {
          "base_uri": "https://localhost:8080/"
        },
        "id": "KqjPc9vOktCO",
        "outputId": "43755a36-e1a0-48b5-ddf8-5b9ae4e81c4f"
      },
      "execution_count": null,
      "outputs": [
        {
          "output_type": "stream",
          "name": "stdout",
          "text": [
            "[56, 89, True, 'Ironman', 'Batman', 'Superman']\n"
          ]
        }
      ]
    },
    {
      "cell_type": "markdown",
      "source": [
        "**11. What are the two methods for removing items from a list?**  \n",
        "ANS - Two methods to remove items from list are remove() and pop().\n",
        "Following are the examples -"
      ],
      "metadata": {
        "id": "7vq5v2N6j19d"
      }
    },
    {
      "cell_type": "code",
      "source": [
        "a =[35,\"Robin\", True, 35+89j,56,]\n",
        "print(a)\n",
        "a.remove(True)\n",
        "print(a)\n",
        "a.pop(2)\n",
        "print(a)"
      ],
      "metadata": {
        "colab": {
          "base_uri": "https://localhost:8080/"
        },
        "id": "XIOzC6uijIR_",
        "outputId": "c98ffb34-e4d7-4e21-a7fd-db1a4e9442df"
      },
      "execution_count": null,
      "outputs": [
        {
          "output_type": "stream",
          "name": "stdout",
          "text": [
            "[35, 'Robin', True, (35+89j), 56]\n",
            "[35, 'Robin', (35+89j), 56]\n",
            "[35, 'Robin', 56]\n"
          ]
        }
      ]
    },
    {
      "cell_type": "markdown",
      "source": [
        "**12. Describe how list values and string values are identical.**  \n",
        "ANS - Following are some of the reasons why list and string values are identical -  \n",
        "1.Both values have indexes.\n",
        "2.We can perform slicing on both values\n",
        "3.Both values can passed to len() function. \n",
        "4.We can perform concatenation and replication on both the values.\n"
      ],
      "metadata": {
        "id": "OHp-iUTrmdpb"
      }
    },
    {
      "cell_type": "markdown",
      "source": [
        "**13. What's the difference between tuples and lists?**  \n",
        "ANS - List are mutable i.e. we can add, remove or change the values in the lists. While tuples are imutable i.e. they cannot be changed at all. Lists are written using [ ] and tuples are written usinf ( )."
      ],
      "metadata": {
        "id": "VBcj-HSlob-J"
      }
    },
    {
      "cell_type": "markdown",
      "source": [
        "**14. How do you type a tuple value that only contains the integer 42?**  \n",
        "ANS -"
      ],
      "metadata": {
        "id": "Pta_Slymp1k1"
      }
    },
    {
      "cell_type": "code",
      "source": [
        "(42,)"
      ],
      "metadata": {
        "colab": {
          "base_uri": "https://localhost:8080/"
        },
        "id": "mOC16ubjqVcj",
        "outputId": "5be451f9-0f1b-4375-f94b-ba5b07ac6e73"
      },
      "execution_count": null,
      "outputs": [
        {
          "output_type": "execute_result",
          "data": {
            "text/plain": [
              "(42,)"
            ]
          },
          "metadata": {},
          "execution_count": 35
        }
      ]
    },
    {
      "cell_type": "markdown",
      "source": [
        "**15. How do you get a list value's tuple form? How do you get a tuple value's list form?**  \n",
        "ANS - "
      ],
      "metadata": {
        "id": "bJ6gRfF_qZoC"
      }
    },
    {
      "cell_type": "code",
      "source": [
        "l =[45,69,63,\"Joker\"]\n",
        "print(l)\n",
        "t = tuple(l)\n",
        "print(t)\n",
        "\n",
        "t = (89,63,78,\"Riddler\")\n",
        "print(t)\n",
        "l = list(t)\n",
        "print(l)"
      ],
      "metadata": {
        "colab": {
          "base_uri": "https://localhost:8080/"
        },
        "id": "wm7_87D9qWjK",
        "outputId": "7afd7a02-98ef-48e0-b65d-2c851d3731d6"
      },
      "execution_count": null,
      "outputs": [
        {
          "output_type": "stream",
          "name": "stdout",
          "text": [
            "[45, 69, 63, 'Joker']\n",
            "(45, 69, 63, 'Joker')\n",
            "(89, 63, 78, 'Riddler')\n",
            "[89, 63, 78, 'Riddler']\n"
          ]
        }
      ]
    },
    {
      "cell_type": "markdown",
      "source": [
        "**16. Variables that \"contain\" list values are not necessarily lists themselves. Instead, what do they contain?**  \n",
        "ANS - They contain references to the values of list."
      ],
      "metadata": {
        "id": "KF9tGFjHrPvU"
      }
    },
    {
      "cell_type": "markdown",
      "source": [
        "**17. How do you distinguish between copy.copy() and copy.deepcopy()?**  \n",
        "ANS - "
      ],
      "metadata": {
        "id": "ESjEIDbgr6nU"
      }
    },
    {
      "cell_type": "code",
      "source": [
        "# copy.copy() will do the shallow copy of list.\n",
        "l1 = [1,2,3,4]\n",
        "l2 = l1.copy()\n"
      ],
      "metadata": {
        "id": "kdlG9KleeNKv"
      },
      "execution_count": 1,
      "outputs": []
    },
    {
      "cell_type": "code",
      "source": [
        "l2"
      ],
      "metadata": {
        "colab": {
          "base_uri": "https://localhost:8080/"
        },
        "id": "MqPzRoxue1T1",
        "outputId": "2544a4f9-2d33-40cf-8b6d-82b424e50229"
      },
      "execution_count": 2,
      "outputs": [
        {
          "output_type": "execute_result",
          "data": {
            "text/plain": [
              "[1, 2, 3, 4]"
            ]
          },
          "metadata": {},
          "execution_count": 2
        }
      ]
    },
    {
      "cell_type": "code",
      "source": [
        "#if we change any item in l2, l1 will not chnage in this case.\n",
        "l2[1] = 254"
      ],
      "metadata": {
        "id": "xp4syiXTe2YV"
      },
      "execution_count": 3,
      "outputs": []
    },
    {
      "cell_type": "code",
      "source": [
        "l1,l2"
      ],
      "metadata": {
        "colab": {
          "base_uri": "https://localhost:8080/"
        },
        "id": "m7uEOD_AfWaa",
        "outputId": "77f60114-2cc8-4356-9462-c0725ffaf86b"
      },
      "execution_count": 4,
      "outputs": [
        {
          "output_type": "execute_result",
          "data": {
            "text/plain": [
              "([1, 2, 3, 4], [1, 254, 3, 4])"
            ]
          },
          "metadata": {},
          "execution_count": 4
        }
      ]
    },
    {
      "cell_type": "code",
      "source": [
        "# copy.copy() functon will not work in case of nested list\n",
        "l1 = [[1,2,3,4], [5,6,7,8]]\n",
        "l2 = l1.copy()"
      ],
      "metadata": {
        "id": "8kSrzfiofXwk"
      },
      "execution_count": 5,
      "outputs": []
    },
    {
      "cell_type": "code",
      "source": [
        "l1,l2"
      ],
      "metadata": {
        "colab": {
          "base_uri": "https://localhost:8080/"
        },
        "id": "YouhSnGCf3in",
        "outputId": "36281af2-9f5d-4635-edfc-929b51a97a5d"
      },
      "execution_count": 7,
      "outputs": [
        {
          "output_type": "execute_result",
          "data": {
            "text/plain": [
              "([[1, 2, 3, 4], [5, 6, 7, 8]], [[1, 2, 3, 4], [5, 6, 7, 8]])"
            ]
          },
          "metadata": {},
          "execution_count": 7
        }
      ]
    },
    {
      "cell_type": "code",
      "source": [
        "l2[1][2] = 100"
      ],
      "metadata": {
        "id": "UNx4rsdIf4FL"
      },
      "execution_count": 8,
      "outputs": []
    },
    {
      "cell_type": "code",
      "source": [
        "#as we can see the value assigned by us in l2 is also changed in l1.\n",
        "l1,l2"
      ],
      "metadata": {
        "colab": {
          "base_uri": "https://localhost:8080/"
        },
        "id": "zBt5g4ShgCIN",
        "outputId": "186d2232-acf4-4c0e-9981-bbcdf7099976"
      },
      "execution_count": 9,
      "outputs": [
        {
          "output_type": "execute_result",
          "data": {
            "text/plain": [
              "([[1, 2, 3, 4], [5, 6, 100, 8]], [[1, 2, 3, 4], [5, 6, 100, 8]])"
            ]
          },
          "metadata": {},
          "execution_count": 9
        }
      ]
    },
    {
      "cell_type": "code",
      "source": [
        "#For nested list we need to use copy.deepcopy() function. \n",
        "import copy \n",
        "l1 = [[1,2,3,4],[5,6,7,8]]\n",
        "l2 = copy.deepcopy(l1)\n",
        "l1,l2"
      ],
      "metadata": {
        "colab": {
          "base_uri": "https://localhost:8080/"
        },
        "id": "S-zJGvRjgDaM",
        "outputId": "6b251fe9-3688-4c2c-dc64-7a12976eea70"
      },
      "execution_count": 12,
      "outputs": [
        {
          "output_type": "execute_result",
          "data": {
            "text/plain": [
              "([[1, 2, 3, 4], [5, 6, 7, 8]], [[1, 2, 3, 4], [5, 6, 7, 8]])"
            ]
          },
          "metadata": {},
          "execution_count": 12
        }
      ]
    },
    {
      "cell_type": "code",
      "source": [
        "l2[1][2] = 100"
      ],
      "metadata": {
        "id": "nUGFdNdGg9WM"
      },
      "execution_count": 13,
      "outputs": []
    },
    {
      "cell_type": "code",
      "source": [
        "l1,l2"
      ],
      "metadata": {
        "colab": {
          "base_uri": "https://localhost:8080/"
        },
        "id": "TH5QpKVNhOhl",
        "outputId": "6e499d62-d339-4aca-f6b1-ae394f855990"
      },
      "execution_count": 14,
      "outputs": [
        {
          "output_type": "execute_result",
          "data": {
            "text/plain": [
              "([[1, 2, 3, 4], [5, 6, 7, 8]], [[1, 2, 3, 4], [5, 6, 100, 8]])"
            ]
          },
          "metadata": {},
          "execution_count": 14
        }
      ]
    },
    {
      "cell_type": "code",
      "source": [
        "#in copy.deepcopy() every changes we do it makes separate memory location which is not in the case of copy.copy()."
      ],
      "metadata": {
        "id": "pI760bu2hPhm"
      },
      "execution_count": 15,
      "outputs": []
    },
    {
      "cell_type": "code",
      "source": [
        ""
      ],
      "metadata": {
        "id": "9K2e2WBFhkMR"
      },
      "execution_count": null,
      "outputs": []
    }
  ]
}