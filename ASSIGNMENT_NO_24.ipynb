{
  "nbformat": 4,
  "nbformat_minor": 0,
  "metadata": {
    "colab": {
      "name": "ASSIGNMENT NO.24.ipynb",
      "provenance": [],
      "collapsed_sections": []
    },
    "kernelspec": {
      "name": "python3",
      "display_name": "Python 3"
    },
    "language_info": {
      "name": "python"
    }
  },
  "cells": [
    {
      "cell_type": "markdown",
      "source": [
        "**1. What is the relationship between def statements and lambda expressions ?**  \n",
        "ANS - def statements are used to make the normal functions whereas lambda expression is used to make the Anonymus function. which can be assigned to a variable and can be called using the variable later in function.  \n",
        "Lambda is a single line functions and not the blocks of the statements. The lambda expression's body is similar to what we'd put in a def body's return statement. We simply type the result as an expression instead of explicitly returning it. Because it is limited to an expression, a lambda is less general than a def statement."
      ],
      "metadata": {
        "id": "xS6h6_cV-C5j"
      }
    },
    {
      "cell_type": "markdown",
      "source": [
        "**2. What is the benefit of lambda?**  \n",
        "ANS - Can be used to create an Annonymus Function.  \n",
        "It require fewer line of coding.  \n",
        "Fuctions created using lambda expressions can be assigned to a variable and can be used by simply calling the variable.  \n",
        "Small functions can be created in a single line."
      ],
      "metadata": {
        "id": "LryrU_EYCp_S"
      }
    },
    {
      "cell_type": "markdown",
      "source": [
        "**3. Compare and contrast map, filter, and reduce.**  \n",
        "ANS - **map(**): The map() function is a type of higher-order. This function takes another function as a parameter along with a sequence of iterables and returns an output after applying the function to each iterable present in the sequence.  \n",
        "**filter()**: The filter() function is used to create an output list consisting of values for which the function returns true.   \n",
        "**reduce()**: The reduce() function, as the name describes, applies a given function to the iterables and returns a single value"
      ],
      "metadata": {
        "id": "BseO69ntDR6K"
      }
    },
    {
      "cell_type": "markdown",
      "source": [
        "**4. What are function annotations, and how are they used?**  \n",
        "ANS - Function annotations provide a way of associating various parts of a function with arbitrary pythoncexpressions at compile time.  \n",
        "Annotations of simple parameters def func(x: expression, y: expression = 20):  \n",
        "Whereas the annotations for excess parameters are as − def func (**args: expression, **kwargs: expression)"
      ],
      "metadata": {
        "id": "M29h62mqDnWp"
      }
    },
    {
      "cell_type": "markdown",
      "source": [
        "**5. What are recursive functions, and how are they used?**  \n",
        "ANS - A recursive function is a function that calls itself during its execution. The process may repeat several times, outputting the result and the end of each iteration."
      ],
      "metadata": {
        "id": "cp1k7FJpEPfW"
      }
    },
    {
      "cell_type": "markdown",
      "source": [
        "**6. What are some general design guidelines for coding functions?**  \n",
        "ANS - 1. Avoid using digits while choosing a variable name\n",
        "2. avoid using or limited use of global variables    \n",
        "3. Proper Identation to increase the code readability  \n",
        "4. try to use a name for the function which conveys the purpose of the function  \n",
        "5. Always use a docstring to explain the functionality of the function\n",
        "6. try to follow a naming convention for function names (pascalCase or camelCase) and stick with the same convention throughout the application  \n",
        "7. Local variables should be named using camelCase format (ex: localVariable) whereas Global variables names should be using PascalCase (ex:GlobalVariable)."
      ],
      "metadata": {
        "id": "8eQqAJdeEX72"
      }
    },
    {
      "cell_type": "markdown",
      "source": [
        "**7. Name three or more ways that functions can communicate results to a caller.**  \n",
        "ANS - Some of the ways in which a function can communicate with the calling function is:  \n",
        "**print**  \n",
        "**return**  \n",
        "**yield**    "
      ],
      "metadata": {
        "id": "cQqBYAp_FPjp"
      }
    }
  ]
}