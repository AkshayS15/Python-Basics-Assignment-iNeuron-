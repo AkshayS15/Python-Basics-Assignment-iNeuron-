{
  "nbformat": 4,
  "nbformat_minor": 0,
  "metadata": {
    "colab": {
      "name": "ASSIGNMENT NO.19.ipynb",
      "provenance": [],
      "collapsed_sections": []
    },
    "kernelspec": {
      "name": "python3",
      "display_name": "Python 3"
    },
    "language_info": {
      "name": "python"
    }
  },
  "cells": [
    {
      "cell_type": "markdown",
      "source": [
        "**1. Make a class called Thing with no contents and print it. Then, create an object called example from this class and also print it. Are the printed values the same or different?**  \n",
        "ANS - "
      ],
      "metadata": {
        "id": "DoDbNBYwg4sg"
      }
    },
    {
      "cell_type": "code",
      "source": [
        "class Thing :\n",
        "  pass\n",
        "print(Thing)"
      ],
      "metadata": {
        "colab": {
          "base_uri": "https://localhost:8080/"
        },
        "id": "S-RGkfs1g-R2",
        "outputId": "1e652248-2d8b-40af-ab79-4d72627c6440"
      },
      "execution_count": 1,
      "outputs": [
        {
          "output_type": "stream",
          "name": "stdout",
          "text": [
            "<class '__main__.Thing'>\n"
          ]
        }
      ]
    },
    {
      "cell_type": "code",
      "source": [
        "example = Thing()\n",
        "print(example)"
      ],
      "metadata": {
        "colab": {
          "base_uri": "https://localhost:8080/"
        },
        "id": "iKpUsk09hQR2",
        "outputId": "29c1df6c-7b6a-4276-a626-b16ffc6dcab0"
      },
      "execution_count": 3,
      "outputs": [
        {
          "output_type": "stream",
          "name": "stdout",
          "text": [
            "<__main__.Thing object at 0x7f784ebeca90>\n"
          ]
        }
      ]
    },
    {
      "cell_type": "code",
      "source": [
        "#Printed values are not same"
      ],
      "metadata": {
        "id": "ExfBZHybhfPa"
      },
      "execution_count": null,
      "outputs": []
    },
    {
      "cell_type": "markdown",
      "source": [
        "**2. Create a new class called Thing2 and add the value 'abc' to the letters class attribute. Letters should be printed**  \n",
        "ANS - "
      ],
      "metadata": {
        "id": "AYrjp0TRhMED"
      }
    },
    {
      "cell_type": "code",
      "source": [
        "class Things2:\n",
        "  letters = \"abc\"\n",
        "Things2.letters"
      ],
      "metadata": {
        "colab": {
          "base_uri": "https://localhost:8080/",
          "height": 36
        },
        "id": "RoACmXr7hpY3",
        "outputId": "0af5f8c4-5897-4734-fedc-d4f5e1959c6e"
      },
      "execution_count": 5,
      "outputs": [
        {
          "output_type": "execute_result",
          "data": {
            "text/plain": [
              "'abc'"
            ],
            "application/vnd.google.colaboratory.intrinsic+json": {
              "type": "string"
            }
          },
          "metadata": {},
          "execution_count": 5
        }
      ]
    },
    {
      "cell_type": "markdown",
      "source": [
        "**3. Make yet another class called, of course, Thing3. This time, assign the value 'xyz' to an instance (object) attribute called letters. Print letters. Do you need to make an object from the class to do this?**  \n",
        "ANS - "
      ],
      "metadata": {
        "id": "BLQDxYOeh7Jg"
      }
    },
    {
      "cell_type": "code",
      "source": [
        "class Things3 :\n",
        "  def __init__(self,letter):\n",
        "    self.letter = letter\n",
        "  def letters(self):\n",
        "    print(self.letter)\n",
        "Things3(\"xyz\").letters()  "
      ],
      "metadata": {
        "colab": {
          "base_uri": "https://localhost:8080/"
        },
        "id": "4wb7yNeoh_1e",
        "outputId": "53ea44be-c992-4c4f-d7fc-40c0b8f93050"
      },
      "execution_count": 7,
      "outputs": [
        {
          "output_type": "stream",
          "name": "stdout",
          "text": [
            "xyz\n"
          ]
        }
      ]
    },
    {
      "cell_type": "markdown",
      "source": [
        "**4. Create an Element class with the instance attributes name, symbol, and number. Create a class object with the values 'Hydrogen','H' and 1.**  \n",
        "ANS - "
      ],
      "metadata": {
        "id": "9lj5XH1Niscv"
      }
    },
    {
      "cell_type": "code",
      "source": [
        "class Element:\n",
        "  def __init__(self,name,symbol,number):\n",
        "    self.name = name\n",
        "    self.symbol = symbol\n",
        "    self.number = number\n",
        "  def Print_them(self):\n",
        "    print(self.name,self.symbol,self.number)"
      ],
      "metadata": {
        "id": "xpFAGPbcixjl"
      },
      "execution_count": 8,
      "outputs": []
    },
    {
      "cell_type": "code",
      "source": [
        "object = Element(\"Hydrogen\", \"H\", \"1\")\n",
        "print(object.name , object.symbol , object.number)"
      ],
      "metadata": {
        "colab": {
          "base_uri": "https://localhost:8080/"
        },
        "id": "PFEAh21ojgO1",
        "outputId": "d6017c40-0f39-4ca2-e1e3-d3f5d180b6b4"
      },
      "execution_count": 10,
      "outputs": [
        {
          "output_type": "stream",
          "name": "stdout",
          "text": [
            "Hydrogen H 1\n"
          ]
        }
      ]
    },
    {
      "cell_type": "markdown",
      "source": [
        "**5. Make a dictionary with these keys and values: 'name' 'Hydrogen' 'symbol' 'H', 'number' 1. Then,create an object called hydrogen from class Element using this dictionary.**  \n",
        "ANS - "
      ],
      "metadata": {
        "id": "V87HCyW5j7S3"
      }
    },
    {
      "cell_type": "code",
      "source": [
        "dict = {'name':'Hydrogen','symbol':'H','number':1}"
      ],
      "metadata": {
        "id": "KviZDwSAkANw"
      },
      "execution_count": 11,
      "outputs": []
    },
    {
      "cell_type": "code",
      "source": [
        "Hydrogen = Element(**dict)"
      ],
      "metadata": {
        "id": "GvW6uT8OkLAA"
      },
      "execution_count": 14,
      "outputs": []
    },
    {
      "cell_type": "code",
      "source": [
        "print(Hydrogen.name , Hydrogen.symbol , Hydrogen.number)"
      ],
      "metadata": {
        "colab": {
          "base_uri": "https://localhost:8080/"
        },
        "id": "5rJj_ouUkTN9",
        "outputId": "f98fc7cf-043a-4b2a-f7b6-9afe7bbc26c3"
      },
      "execution_count": 15,
      "outputs": [
        {
          "output_type": "stream",
          "name": "stdout",
          "text": [
            "Hydrogen H 1\n"
          ]
        }
      ]
    },
    {
      "cell_type": "markdown",
      "source": [
        "**6. For the Element class, define a method called dump() that prints the values of the object’s attributes (name, symbol, and number). Create the hydrogen object from this new definition and use dump() to print its attributes.**  \n",
        "ANS - "
      ],
      "metadata": {
        "id": "mnTBSQ6cknbq"
      }
    },
    {
      "cell_type": "code",
      "source": [
        "class Element:\n",
        "  def __init__(self,name,symbol,number):\n",
        "    self.name = name\n",
        "    self.symbol = symbol\n",
        "    self.number = number\n",
        "  def dump(self):\n",
        "    print(self.name,self.symbol,self.number)"
      ],
      "metadata": {
        "id": "jh9nmnOUkrl6"
      },
      "execution_count": 19,
      "outputs": []
    },
    {
      "cell_type": "code",
      "source": [
        "hydrogen = Element(\"name\", \"symbol\",  \"number\")\n",
        "hydrogen.dump()"
      ],
      "metadata": {
        "colab": {
          "base_uri": "https://localhost:8080/"
        },
        "id": "0taPsacbk03p",
        "outputId": "1d43c59e-d6ac-4aef-9a13-86d62c0a7ae7"
      },
      "execution_count": 20,
      "outputs": [
        {
          "output_type": "stream",
          "name": "stdout",
          "text": [
            "name symbol number\n"
          ]
        }
      ]
    },
    {
      "cell_type": "markdown",
      "source": [
        "**7. Call print(hydrogen). In the definition of Element, change the name of method dump to str, create a new hydrogen object, and call print(hydrogen) again.**  \n",
        "ANS - "
      ],
      "metadata": {
        "id": "sBbYaGZvlM9S"
      }
    },
    {
      "cell_type": "code",
      "source": [
        "class Element:\n",
        "  def __init__(self,name,symbol,number):\n",
        "    self.name = name\n",
        "    self.symbol = symbol\n",
        "    self.number = number\n",
        "  def __str__(self):\n",
        "    return(\"name=%s , symbol=%s , number=%s\"% (self.name,self.symbol,self.number))"
      ],
      "metadata": {
        "id": "ekVhDqa8lr8h"
      },
      "execution_count": 25,
      "outputs": []
    },
    {
      "cell_type": "code",
      "source": [
        "hydrogen = Element('Hydrogen','H',1)\n",
        "print(hydrogen)"
      ],
      "metadata": {
        "colab": {
          "base_uri": "https://localhost:8080/"
        },
        "id": "ybzvqFBkmFIi",
        "outputId": "8bc12bae-3cef-4ab0-f542-1e1fec483fe8"
      },
      "execution_count": 26,
      "outputs": [
        {
          "output_type": "stream",
          "name": "stdout",
          "text": [
            "name=Hydrogen , symbol=H , number=1\n"
          ]
        }
      ]
    },
    {
      "cell_type": "markdown",
      "source": [
        "**8. Modify Element to make the attributes name, symbol, and number private. Define a getter property for each to return its value**  \n",
        "ANS - "
      ],
      "metadata": {
        "id": "sLGScSJAmpjo"
      }
    },
    {
      "cell_type": "code",
      "source": [
        "class Element():\n",
        "  def __init__(self,name,symbol,number):\n",
        "    self.__name = name\n",
        "    self.__symbol = symbol\n",
        "    self.__number = number\n",
        "  @property\n",
        "  def name(self): \n",
        "    return (self.__name)\n",
        "  @property \n",
        "  def symbol(self):\n",
        "    return(self.__symbol)\n",
        "  @property\n",
        "  def number(self):\n",
        "    return(self.__number)\n",
        "  "
      ],
      "metadata": {
        "id": "-9Xx5oqkmxnD"
      },
      "execution_count": 27,
      "outputs": []
    },
    {
      "cell_type": "code",
      "source": [
        "hydrogen = Element('Hydrogen','H',1)\n",
        "hydrogen.name"
      ],
      "metadata": {
        "colab": {
          "base_uri": "https://localhost:8080/",
          "height": 36
        },
        "id": "68voOaVEqLNU",
        "outputId": "388f5b6b-a03a-46df-a97c-803e85737d1c"
      },
      "execution_count": 28,
      "outputs": [
        {
          "output_type": "execute_result",
          "data": {
            "text/plain": [
              "'Hydrogen'"
            ],
            "application/vnd.google.colaboratory.intrinsic+json": {
              "type": "string"
            }
          },
          "metadata": {},
          "execution_count": 28
        }
      ]
    },
    {
      "cell_type": "markdown",
      "source": [
        "**9. Define three classes: Bear, Rabbit, and Octothorpe. For each, define only one method: eats(). This should return 'berries' (Bear), 'clover' (Rabbit), or 'campers' (Octothorpe). Create one object from each and print what it eats.**  \n",
        "ANS - "
      ],
      "metadata": {
        "id": "zaQIYX-sqNXU"
      }
    },
    {
      "cell_type": "code",
      "source": [
        "class Bear():\n",
        "  def eats():\n",
        "    print(\"berries\")\n",
        "\n",
        "class Rabbit:\n",
        "  def eats():\n",
        "    print(\"clover\")\n",
        "\n",
        "class Octothorpe():\n",
        "  def eats():\n",
        "    print(\"campers\")"
      ],
      "metadata": {
        "id": "DMtWSO_-qdNj"
      },
      "execution_count": 29,
      "outputs": []
    },
    {
      "cell_type": "code",
      "source": [
        "Bear.eats()"
      ],
      "metadata": {
        "colab": {
          "base_uri": "https://localhost:8080/"
        },
        "id": "gcjOwiGKrCf0",
        "outputId": "223928f4-419f-414f-d035-762ecb9ee3ff"
      },
      "execution_count": 30,
      "outputs": [
        {
          "output_type": "stream",
          "name": "stdout",
          "text": [
            "berries\n"
          ]
        }
      ]
    },
    {
      "cell_type": "code",
      "source": [
        "Rabbit.eats()"
      ],
      "metadata": {
        "colab": {
          "base_uri": "https://localhost:8080/"
        },
        "id": "lE9DEWzerMXH",
        "outputId": "67278924-ae1b-4e6a-c3fa-b23250dcbc75"
      },
      "execution_count": 31,
      "outputs": [
        {
          "output_type": "stream",
          "name": "stdout",
          "text": [
            "clover\n"
          ]
        }
      ]
    },
    {
      "cell_type": "code",
      "source": [
        "Octothorpe.eats()"
      ],
      "metadata": {
        "colab": {
          "base_uri": "https://localhost:8080/"
        },
        "id": "QP2BKK3ZrN9Y",
        "outputId": "5b59fc2d-9974-4215-f233-180a9fce617a"
      },
      "execution_count": 32,
      "outputs": [
        {
          "output_type": "stream",
          "name": "stdout",
          "text": [
            "campers\n"
          ]
        }
      ]
    },
    {
      "cell_type": "markdown",
      "source": [
        "**10. Define these classes: Laser, Claw, and SmartPhone. Each has only one method: does(). This returns 'disintegrate' (Laser), 'crush' (Claw), or 'ring' (SmartPhone). Then, define the class Robot that has one instance (object) of each of these. Define a does() method for the Robot that prints what its component objects do.**  \n",
        "ANS -"
      ],
      "metadata": {
        "id": "rAS-oJTvrW9K"
      }
    },
    {
      "cell_type": "code",
      "source": [
        "class Laser:\n",
        "  def does(self):\n",
        "    return(\"disintegrate\")\n",
        "    \n",
        "class Claw :\n",
        "  def does(self):\n",
        "    return(\"crush\")\n",
        "\n",
        "class SmartPhone :\n",
        "  def does(self):\n",
        "    return(\"ring\")\n",
        "\n",
        "class Robot :\n",
        "  def __init__(self):\n",
        "    self.laser = Laser()\n",
        "    self.claw = Claw()\n",
        "    self.smartphone = SmartPhone()\n",
        "  def does(self) :\n",
        "    return (\"Laser is %s, Claw is %s, SmartPhone is %s\" % (self.laser.does(),self.claw.does(),self.smartphone.does()))"
      ],
      "metadata": {
        "id": "HKUQq7wurcer"
      },
      "execution_count": 51,
      "outputs": []
    },
    {
      "cell_type": "code",
      "source": [
        "robo = Robot()\n"
      ],
      "metadata": {
        "id": "L05DpxTYt9RN"
      },
      "execution_count": 52,
      "outputs": []
    },
    {
      "cell_type": "code",
      "source": [
        "robo.does()"
      ],
      "metadata": {
        "colab": {
          "base_uri": "https://localhost:8080/",
          "height": 36
        },
        "id": "k27uwJDYuBVn",
        "outputId": "e9063c7f-c397-4f27-ddc4-272d2c0d07d9"
      },
      "execution_count": 53,
      "outputs": [
        {
          "output_type": "execute_result",
          "data": {
            "text/plain": [
              "'Laser is disintegrate, Claw is crush, SmartPhone is ring'"
            ],
            "application/vnd.google.colaboratory.intrinsic+json": {
              "type": "string"
            }
          },
          "metadata": {},
          "execution_count": 53
        }
      ]
    }
  ]
}