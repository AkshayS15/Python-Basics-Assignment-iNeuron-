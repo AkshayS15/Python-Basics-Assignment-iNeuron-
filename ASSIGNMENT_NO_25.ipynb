{
  "nbformat": 4,
  "nbformat_minor": 0,
  "metadata": {
    "colab": {
      "name": "ASSIGNMENT NO.25.ipynb",
      "provenance": [],
      "collapsed_sections": []
    },
    "kernelspec": {
      "name": "python3",
      "display_name": "Python 3"
    },
    "language_info": {
      "name": "python"
    }
  },
  "cells": [
    {
      "cell_type": "markdown",
      "source": [
        "**1) . What is the difference between enclosing a list comprehension in square brackets and parentheses?**  \n",
        "ANS -Enclosing a list comprehension in square brackets returns a **list** whereas enclosing a list comprehension in parentheses returns a **generator** object."
      ],
      "metadata": {
        "id": "YiWtUfGoHj93"
      }
    },
    {
      "cell_type": "markdown",
      "source": [
        "**2) What is the relationship between generators and iterators?**  \n",
        "ANS - An **iterator** is an object which contains a countable number of values and it is used to iterate over iterable objects like list, tuples, sets, etc.  \n",
        "For an iterator: **iter()** keyword is used to create an iterator containing an iterable object.  \n",
        "**next()** keyword is used to call the next element in the iterable object.   \n",
        "**Generator -**\n",
        "It is another way of creating iterators in a simple way where it uses the keyword **“yield”** instead of returning it in a defined function.  \n",
        "Generators are implemented using a function.   \n",
        "Just as iterators, generators also follow lazy evaluation.   \n",
        "Here, the yield function returns the data without affecting or exiting the function.  \n",
        "It will return a sequence of data in an iterable format where we need to iterate over the sequence to use the data as they won’t store the entire sequence in the memory."
      ],
      "metadata": {
        "id": "Eat_GXbi3s7i"
      }
    },
    {
      "cell_type": "markdown",
      "source": [
        "**3) What are the signs that a function is a generator function?**  \n",
        "ANS - A generator function uses a **yield** statement instead of a return statement. A generator function will always return a iterable object called generator. where as a normal function can return a **string/list/tuple/dict/NoneType** ... etc"
      ],
      "metadata": {
        "id": "gvPCwZTd5J8k"
      }
    },
    {
      "cell_type": "markdown",
      "source": [
        "**4) What is the purpose of a yield statement?**  \n",
        "ANS - The yield statement suspends function’s execution and sends a value back to the caller, but retains enough state to enable function to resume where it is left off. When resumed, the function continues execution immediately after the last yield run. This allows its code to produce a series of values over time, rather than computing them at once and sending them back like a list"
      ],
      "metadata": {
        "id": "LXhJ0wcQ5xIN"
      }
    },
    {
      "cell_type": "markdown",
      "source": [
        "**5) What is the relationship between map calls and list comprehensions? Make a comparison and contrast between the two ?**  \n",
        "ANS - **The main differences between map calls and list comprehensiosn are:**  \n",
        "1. List comprehension is more concise and easier to read as compared to map.  \n",
        "2. List comprehension allows filtering. In map, we have no such facility. For example, to print all odd numbers in range of 50, we can write [n for n in range(50) if n%2 != 0]. There is no alternate for it in map.  \n",
        "3. List comprehension are used when a list of results is required as final output.but map only returns a map object. it needs to be explicitly coverted to desired datatype.  \n",
        "4. List comprehension is faster than map when we need to evaluate expressions that are too long or complicated to express  \n",
        "5. Map is faster in case of calling an already defined function on a set of values."
      ],
      "metadata": {
        "id": "JVRDQ2v65_fV"
      }
    }
  ]
}