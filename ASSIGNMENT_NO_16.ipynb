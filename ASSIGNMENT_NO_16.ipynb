{
  "nbformat": 4,
  "nbformat_minor": 0,
  "metadata": {
    "colab": {
      "name": "ASSIGNMENT NO.16.ipynb",
      "provenance": [],
      "collapsed_sections": []
    },
    "kernelspec": {
      "name": "python3",
      "display_name": "Python 3"
    },
    "language_info": {
      "name": "python"
    }
  },
  "cells": [
    {
      "cell_type": "markdown",
      "source": [
        "**1. Create a list called years_list, starting with the year of your birth, and each year thereafter until the year of your fifth birthday. For example, if you were born in 1980. the list would be years_list = [1980, 1981, 1982, 1983, 1984, 1985].**  \n",
        "ANS - "
      ],
      "metadata": {
        "id": "ZZafZk9Jrtm7"
      }
    },
    {
      "cell_type": "code",
      "source": [
        "years_list = [i for i in range(1999,1999+6)]\n",
        "years_list"
      ],
      "metadata": {
        "colab": {
          "base_uri": "https://localhost:8080/"
        },
        "id": "THGFf8_HrzVP",
        "outputId": "b1eb7326-5fb4-496a-c053-f64930948e7a"
      },
      "execution_count": 3,
      "outputs": [
        {
          "output_type": "execute_result",
          "data": {
            "text/plain": [
              "[1999, 2000, 2001, 2002, 2003, 2004]"
            ]
          },
          "metadata": {},
          "execution_count": 3
        }
      ]
    },
    {
      "cell_type": "markdown",
      "source": [
        "**2. In which year in years_list was your third birthday? Remember, you were 0 years of age for your first year.**  \n",
        "ANS - "
      ],
      "metadata": {
        "id": "shj2woJKsaxe"
      }
    },
    {
      "cell_type": "code",
      "source": [
        "years_list[3]"
      ],
      "metadata": {
        "colab": {
          "base_uri": "https://localhost:8080/"
        },
        "id": "x2K88WTrsnsk",
        "outputId": "f6182acd-9394-41f9-ee86-df1d7f267a1f"
      },
      "execution_count": 5,
      "outputs": [
        {
          "output_type": "execute_result",
          "data": {
            "text/plain": [
              "2002"
            ]
          },
          "metadata": {},
          "execution_count": 5
        }
      ]
    },
    {
      "cell_type": "markdown",
      "source": [
        "**3.In the years list, which year were you the oldest?**  \n",
        "ANS - "
      ],
      "metadata": {
        "id": "SRhw8Xwjsyyg"
      }
    },
    {
      "cell_type": "code",
      "source": [
        "max(years_list)"
      ],
      "metadata": {
        "colab": {
          "base_uri": "https://localhost:8080/"
        },
        "id": "4pRPvrYrtquM",
        "outputId": "26aa8901-76cf-4aae-972d-bcbcd3c7a162"
      },
      "execution_count": 7,
      "outputs": [
        {
          "output_type": "execute_result",
          "data": {
            "text/plain": [
              "2004"
            ]
          },
          "metadata": {},
          "execution_count": 7
        }
      ]
    },
    {
      "cell_type": "markdown",
      "source": [
        "**4. Make a list called things with these three strings as elements: 'mozzarella', 'cinderella','salmonella'.**  \n",
        "ANS - "
      ],
      "metadata": {
        "id": "gnFFKL_kt7Bx"
      }
    },
    {
      "cell_type": "code",
      "source": [
        "things =['mozzarella', 'cinderella','salmonella']\n",
        "things"
      ],
      "metadata": {
        "colab": {
          "base_uri": "https://localhost:8080/"
        },
        "id": "Mkq4G19Nt9_d",
        "outputId": "33fe2028-34ef-452b-e7f6-864dd233e762"
      },
      "execution_count": 9,
      "outputs": [
        {
          "output_type": "execute_result",
          "data": {
            "text/plain": [
              "['mozzarella', 'cinderella', 'salmonella']"
            ]
          },
          "metadata": {},
          "execution_count": 9
        }
      ]
    },
    {
      "cell_type": "markdown",
      "source": [
        "**5. Capitalize the element in things that refers to a person and then print the list. Did it change the element in the list?**  \n",
        "ANS - "
      ],
      "metadata": {
        "id": "yn6tTfa8uSQu"
      }
    },
    {
      "cell_type": "code",
      "source": [
        "for i in things:\n",
        "  print(i.capitalize())\n",
        "things #Did not change the elemnts"
      ],
      "metadata": {
        "colab": {
          "base_uri": "https://localhost:8080/"
        },
        "id": "zHKCkKxeuVBA",
        "outputId": "08fcb82c-8c8a-41f7-89aa-e524dd69817c"
      },
      "execution_count": 13,
      "outputs": [
        {
          "output_type": "stream",
          "name": "stdout",
          "text": [
            "Mozzarella\n",
            "Cinderella\n",
            "Salmonella\n"
          ]
        },
        {
          "output_type": "execute_result",
          "data": {
            "text/plain": [
              "['mozzarella', 'cinderella', 'salmonella']"
            ]
          },
          "metadata": {},
          "execution_count": 13
        }
      ]
    },
    {
      "cell_type": "markdown",
      "source": [
        "**6. Make a surprise list with the elements \"Groucho\", \"Chico\", and \"Harpo\"**  \n",
        "ANS - \n"
      ],
      "metadata": {
        "id": "zBUSOhTBuxu4"
      }
    },
    {
      "cell_type": "code",
      "source": [
        "surprise = [ \"Groucho\", \"Chico\", \"Harpo\"]\n",
        "surprise"
      ],
      "metadata": {
        "colab": {
          "base_uri": "https://localhost:8080/"
        },
        "id": "4TOan1y9u-WE",
        "outputId": "597f52fc-f272-4cd6-86dc-20c303055d64"
      },
      "execution_count": 14,
      "outputs": [
        {
          "output_type": "execute_result",
          "data": {
            "text/plain": [
              "['Groucho', 'Chico', 'Harpo']"
            ]
          },
          "metadata": {},
          "execution_count": 14
        }
      ]
    },
    {
      "cell_type": "markdown",
      "source": [
        "**7. Lowercase the last element of the surprise list, reverse it, and then capitalize it**  \n",
        "ANS - "
      ],
      "metadata": {
        "id": "CGQLG_gYvg8R"
      }
    },
    {
      "cell_type": "code",
      "source": [
        "surprise[-1].lower()"
      ],
      "metadata": {
        "colab": {
          "base_uri": "https://localhost:8080/",
          "height": 34
        },
        "id": "BX8Z634zvkZJ",
        "outputId": "bc4cf2f9-c7a9-45db-cb5e-5efd774bc53b"
      },
      "execution_count": 15,
      "outputs": [
        {
          "output_type": "execute_result",
          "data": {
            "text/plain": [
              "'harpo'"
            ],
            "application/vnd.google.colaboratory.intrinsic+json": {
              "type": "string"
            }
          },
          "metadata": {},
          "execution_count": 15
        }
      ]
    },
    {
      "cell_type": "code",
      "source": [
        "surprise[-1][::-1]"
      ],
      "metadata": {
        "colab": {
          "base_uri": "https://localhost:8080/",
          "height": 34
        },
        "id": "_ANylB6ZvtAt",
        "outputId": "53f56f8f-413b-4569-bb3f-fe6d767321b0"
      },
      "execution_count": 16,
      "outputs": [
        {
          "output_type": "execute_result",
          "data": {
            "text/plain": [
              "'opraH'"
            ],
            "application/vnd.google.colaboratory.intrinsic+json": {
              "type": "string"
            }
          },
          "metadata": {},
          "execution_count": 16
        }
      ]
    },
    {
      "cell_type": "code",
      "source": [
        "surprise[-1][::-1].upper()"
      ],
      "metadata": {
        "colab": {
          "base_uri": "https://localhost:8080/",
          "height": 34
        },
        "id": "1dAF7LMTv0By",
        "outputId": "bdd40736-6b59-43a3-d443-6bd6de9278b7"
      },
      "execution_count": 18,
      "outputs": [
        {
          "output_type": "execute_result",
          "data": {
            "text/plain": [
              "'OPRAH'"
            ],
            "application/vnd.google.colaboratory.intrinsic+json": {
              "type": "string"
            }
          },
          "metadata": {},
          "execution_count": 18
        }
      ]
    },
    {
      "cell_type": "markdown",
      "source": [
        "**8. Make an English-to-French dictionary called e2f and print it. Here are your starter words: dog is chien, cat is chat, and walrus is morse**  \n",
        "ANS - "
      ],
      "metadata": {
        "id": "36zNTwsIwK-C"
      }
    },
    {
      "cell_type": "code",
      "source": [
        "e2f = {\"dog\" : \"chien\", \"cat\" : \"chat\" , \"warlus\" : \"morse\"}\n",
        "e2f"
      ],
      "metadata": {
        "colab": {
          "base_uri": "https://localhost:8080/"
        },
        "id": "rxBCBzC6wZrr",
        "outputId": "a8ececff-ffc3-4046-e6cc-7aa3bc82dfad"
      },
      "execution_count": 19,
      "outputs": [
        {
          "output_type": "execute_result",
          "data": {
            "text/plain": [
              "{'cat': 'chat', 'dog': 'chien', 'warlus': 'morse'}"
            ]
          },
          "metadata": {},
          "execution_count": 19
        }
      ]
    },
    {
      "cell_type": "markdown",
      "source": [
        "**9. Write the French word for walrus in your three-word dictionary e2f**"
      ],
      "metadata": {
        "id": "MOZfofpwwtZR"
      }
    },
    {
      "cell_type": "code",
      "source": [
        "e2f[\"warlus\"]"
      ],
      "metadata": {
        "colab": {
          "base_uri": "https://localhost:8080/",
          "height": 34
        },
        "id": "CljoWTphxGh9",
        "outputId": "adaf3829-75d7-45d0-bd0c-8795abf378bf"
      },
      "execution_count": 21,
      "outputs": [
        {
          "output_type": "execute_result",
          "data": {
            "text/plain": [
              "'morse'"
            ],
            "application/vnd.google.colaboratory.intrinsic+json": {
              "type": "string"
            }
          },
          "metadata": {},
          "execution_count": 21
        }
      ]
    },
    {
      "cell_type": "markdown",
      "source": [
        "**10. Make a French-to-English dictionary called f2e from e2f. Use the items method**  \n",
        "ANS - "
      ],
      "metadata": {
        "id": "RuZcwdSzxP__"
      }
    },
    {
      "cell_type": "code",
      "source": [
        "f2e = dict((key,value) for value,key in e2f.items())\n",
        "f2e"
      ],
      "metadata": {
        "colab": {
          "base_uri": "https://localhost:8080/"
        },
        "id": "N5NYF8mPxV04",
        "outputId": "347478a5-74d9-441c-83e1-b09ccaa491f0"
      },
      "execution_count": 22,
      "outputs": [
        {
          "output_type": "execute_result",
          "data": {
            "text/plain": [
              "{'chat': 'cat', 'chien': 'dog', 'morse': 'warlus'}"
            ]
          },
          "metadata": {},
          "execution_count": 22
        }
      ]
    },
    {
      "cell_type": "markdown",
      "source": [
        "**11. Print the English version of the French word chien using f2e.**  \n",
        "ANS - "
      ],
      "metadata": {
        "id": "kLv_-nOxyQWy"
      }
    },
    {
      "cell_type": "code",
      "source": [
        "f2e['chien']"
      ],
      "metadata": {
        "colab": {
          "base_uri": "https://localhost:8080/",
          "height": 34
        },
        "id": "Po2jT2LwzbCI",
        "outputId": "ddec7856-6d81-4adf-dfd9-5bab2b4b55fb"
      },
      "execution_count": 23,
      "outputs": [
        {
          "output_type": "execute_result",
          "data": {
            "text/plain": [
              "'dog'"
            ],
            "application/vnd.google.colaboratory.intrinsic+json": {
              "type": "string"
            }
          },
          "metadata": {},
          "execution_count": 23
        }
      ]
    },
    {
      "cell_type": "markdown",
      "source": [
        "**12. Make and print a set of English words from the keys in e2f.**  \n",
        "ANS -"
      ],
      "metadata": {
        "id": "R5PuAZwkzkYB"
      }
    },
    {
      "cell_type": "code",
      "source": [
        "for i in e2f :\n",
        "  print(i)"
      ],
      "metadata": {
        "colab": {
          "base_uri": "https://localhost:8080/"
        },
        "id": "_ADglY4Hzv7B",
        "outputId": "e759e2c8-e1c7-49fa-e6a6-a6d1a69ef786"
      },
      "execution_count": 25,
      "outputs": [
        {
          "output_type": "stream",
          "name": "stdout",
          "text": [
            "dog\n",
            "cat\n",
            "warlus\n"
          ]
        }
      ]
    },
    {
      "cell_type": "code",
      "source": [
        "e2f.keys()"
      ],
      "metadata": {
        "colab": {
          "base_uri": "https://localhost:8080/"
        },
        "id": "uFFnKOROz2vW",
        "outputId": "91e80aac-6fc2-47eb-e295-ee03fa34b372"
      },
      "execution_count": 26,
      "outputs": [
        {
          "output_type": "execute_result",
          "data": {
            "text/plain": [
              "dict_keys(['dog', 'cat', 'warlus'])"
            ]
          },
          "metadata": {},
          "execution_count": 26
        }
      ]
    },
    {
      "cell_type": "markdown",
      "source": [
        "**13. Make a multilevel dictionary called life. Use these strings for the topmost keys: 'animals', 'plants', and 'other'. Make the 'animals' key refer to another dictionary with the keys 'cats', 'octopi', and 'emus'. Make the 'cats' key refer to a list of strings with the values 'Henri', 'Grumpy', and 'Lucy'. Make all the other keys refer to empty dictionaries.**  \n",
        "ANS -"
      ],
      "metadata": {
        "id": "lZ5f3hbe0APo"
      }
    },
    {
      "cell_type": "code",
      "source": [
        "life ={'animals':{'cat':['Henri', 'Grumpy', 'Lucy'], 'octopi':'', 'emus':''},\n",
        "       'plants' :'',\n",
        "       'other' :'' }\n",
        "life"
      ],
      "metadata": {
        "colab": {
          "base_uri": "https://localhost:8080/"
        },
        "id": "LiAQnF2b0E5o",
        "outputId": "d653df3a-be71-461c-cc15-dd3e63868599"
      },
      "execution_count": 27,
      "outputs": [
        {
          "output_type": "execute_result",
          "data": {
            "text/plain": [
              "{'animals': {'cat': ['Henri', 'Grumpy', 'Lucy'], 'emus': '', 'octopi': ''},\n",
              " 'other': '',\n",
              " 'plants': ''}"
            ]
          },
          "metadata": {},
          "execution_count": 27
        }
      ]
    },
    {
      "cell_type": "markdown",
      "source": [
        "**14. Print the top-level keys of life.**  \n",
        "ANS - "
      ],
      "metadata": {
        "id": "EHo8wSpg0PCT"
      }
    },
    {
      "cell_type": "code",
      "source": [
        "life.keys()"
      ],
      "metadata": {
        "colab": {
          "base_uri": "https://localhost:8080/"
        },
        "id": "oDQMgtjS0Riu",
        "outputId": "6fed05f9-8445-4c89-ab11-951d2578e8b0"
      },
      "execution_count": 28,
      "outputs": [
        {
          "output_type": "execute_result",
          "data": {
            "text/plain": [
              "dict_keys(['animals', 'plants', 'other'])"
            ]
          },
          "metadata": {},
          "execution_count": 28
        }
      ]
    },
    {
      "cell_type": "markdown",
      "source": [
        "**15. Print the keys for life['animals']**  \n",
        "ANS -"
      ],
      "metadata": {
        "id": "Ij4jgFny0orn"
      }
    },
    {
      "cell_type": "code",
      "source": [
        "life['animals'].keys()"
      ],
      "metadata": {
        "colab": {
          "base_uri": "https://localhost:8080/"
        },
        "id": "1MK_ZfV40rTi",
        "outputId": "977726d1-af9d-4ea8-9a72-e37387f91fd8"
      },
      "execution_count": 29,
      "outputs": [
        {
          "output_type": "execute_result",
          "data": {
            "text/plain": [
              "dict_keys(['cat', 'octopi', 'emus'])"
            ]
          },
          "metadata": {},
          "execution_count": 29
        }
      ]
    },
    {
      "cell_type": "markdown",
      "source": [
        "**16. Print the values for life['animals']['cat']**  \n",
        "ANS -"
      ],
      "metadata": {
        "id": "1sacHHxa0yMh"
      }
    },
    {
      "cell_type": "code",
      "source": [
        "life['animals']['cat']"
      ],
      "metadata": {
        "colab": {
          "base_uri": "https://localhost:8080/"
        },
        "id": "VmCISa0P00PH",
        "outputId": "d51d0d3c-463b-4492-a283-db4fcc5a9754"
      },
      "execution_count": 30,
      "outputs": [
        {
          "output_type": "execute_result",
          "data": {
            "text/plain": [
              "['Henri', 'Grumpy', 'Lucy']"
            ]
          },
          "metadata": {},
          "execution_count": 30
        }
      ]
    }
  ]
}