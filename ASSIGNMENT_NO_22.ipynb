{
  "nbformat": 4,
  "nbformat_minor": 0,
  "metadata": {
    "colab": {
      "name": "ASSIGNMENT NO.22.ipynb",
      "provenance": [],
      "collapsed_sections": []
    },
    "kernelspec": {
      "name": "python3",
      "display_name": "Python 3"
    },
    "language_info": {
      "name": "python"
    }
  },
  "cells": [
    {
      "cell_type": "markdown",
      "source": [
        "**1. What is the result of the code, and explain?**  \n",
        "\n",
        "**X = 'iNeuron'  \n",
        "def func():  \n",
        "print(X)  \n",
        "func()**     \n",
        "\n",
        "ANS - The result of this code is **iNeuron**. As there is no loacl variable available nside the function it tries to tries to return the value of global variable which is 'x'."
      ],
      "metadata": {
        "id": "XMXXsnlV_BVv"
      }
    },
    {
      "cell_type": "code",
      "source": [
        "x = 'iNeuron'\n",
        "def func():\n",
        "  print(x)\n",
        "func()\n"
      ],
      "metadata": {
        "colab": {
          "base_uri": "https://localhost:8080/"
        },
        "id": "62gu7Szf_-2A",
        "outputId": "8047ee21-d3ba-4132-973d-fbcd0c71a65f"
      },
      "execution_count": 3,
      "outputs": [
        {
          "output_type": "stream",
          "name": "stdout",
          "text": [
            "iNeuron\n"
          ]
        }
      ]
    },
    {
      "cell_type": "markdown",
      "source": [
        "**2. What is the result of the code, and explain?**\n",
        "\n",
        "**X = 'iNeuron'  \n",
        "def func():  \n",
        "X = 'NI!'  \n",
        "func()  \n",
        "print(X)**   \n",
        "\n",
        "ANS - The result of the code after running is **'NI!'**. Because, as the loacl variable value is available inside the function it prints the value of 'x' inside the function which is **'NI!'** ."
      ],
      "metadata": {
        "id": "ZLFDTm06AQot"
      }
    },
    {
      "cell_type": "code",
      "source": [
        "X = 'iNeuron'\n",
        "def func():\n",
        "    X = 'NI!'\n",
        "    print(X)\n",
        "func()"
      ],
      "metadata": {
        "colab": {
          "base_uri": "https://localhost:8080/"
        },
        "id": "UiRfxiY2BHvJ",
        "outputId": "7fd57874-6836-4f55-ddd1-6ec682fb63e3"
      },
      "execution_count": 4,
      "outputs": [
        {
          "output_type": "stream",
          "name": "stdout",
          "text": [
            "NI!\n"
          ]
        }
      ]
    },
    {
      "cell_type": "markdown",
      "source": [
        "**3. What does this code print, and why?**  \n",
        "\n",
        "**X = 'iNeuron'  \n",
        "def func():  \n",
        "X = 'NI!'  \n",
        "print(X)  \n",
        "func()  \n",
        "print(X)**  \n",
        "ANS - The value of x inside the function has loacl scope so it returns **'NI!'** as the value of 'x'.  \n",
        "Where as the print(X) statement gives value of X as **'iNeuron'** as it's available outside the function."
      ],
      "metadata": {
        "id": "rx7hw-YjBvGc"
      }
    },
    {
      "cell_type": "code",
      "source": [
        "X = 'iNeuron'\n",
        "def func():\n",
        "    X = 'NI'\n",
        "    print(X)\n",
        "func()\n",
        "print(X)"
      ],
      "metadata": {
        "colab": {
          "base_uri": "https://localhost:8080/"
        },
        "id": "gpln02UfCCu5",
        "outputId": "e71d90ba-82eb-4137-ef87-79c37301b62f"
      },
      "execution_count": 6,
      "outputs": [
        {
          "output_type": "stream",
          "name": "stdout",
          "text": [
            "NI\n",
            "iNeuron\n"
          ]
        }
      ]
    },
    {
      "cell_type": "markdown",
      "source": [
        "**4. What output does this code produce? Why?**  \n",
        "**X = 'iNeuron'  \n",
        "def func():  \n",
        "global X  \n",
        "X = 'NI!'  \n",
        "print(X)  \n",
        "func()  \n",
        "print(X)**   \n",
        "ANS - The output is **'NI!'**. Here **outside** the function, **X** is the global variable having value as \"**iNeuron**\". But **inside** the function we changed the **local** **scope** of variable **X** to **global** **scope** by using the **global** **keyword** nside the fucntion which have the value as '**NI**!'."
      ],
      "metadata": {
        "id": "o9My88v8CpAB"
      }
    },
    {
      "cell_type": "code",
      "source": [
        "X = 'iNeuron'\n",
        "def func():\n",
        "    global X\n",
        "    X = 'NI'\n",
        "func()\n",
        "print(X)"
      ],
      "metadata": {
        "colab": {
          "base_uri": "https://localhost:8080/"
        },
        "id": "d1fxLA54DaWX",
        "outputId": "db11ea18-1a99-4f5d-dbc8-4089eb97747b"
      },
      "execution_count": 7,
      "outputs": [
        {
          "output_type": "stream",
          "name": "stdout",
          "text": [
            "NI\n"
          ]
        }
      ]
    },
    {
      "cell_type": "markdown",
      "source": [
        "**5. What about this code—what’s the output, and why?**  \n",
        "**X = 'iNeuron'  \n",
        "def func():  \n",
        "X = 'NI'  \n",
        "def nested():  \n",
        "print(X)  \n",
        "nested()  \n",
        "func()  \n",
        "X**  \n",
        "ANS - The output of the code is **NI!**. the reason for this output is if a function wants to access a variable, if its not available in its localscope. it looks for the variable in its global scope. similarly here also function nested looks for variable **X** in its global scope. hence the output of the code is **NI!**"
      ],
      "metadata": {
        "id": "H-1IR9l4HAhr"
      }
    },
    {
      "cell_type": "code",
      "source": [
        "X = 'iNeuron'\n",
        "def func():\n",
        "    X = 'NI'\n",
        "    def nested():\n",
        "        print(X)\n",
        "    nested()\n",
        "func()\n",
        "X"
      ],
      "metadata": {
        "colab": {
          "base_uri": "https://localhost:8080/",
          "height": 53
        },
        "id": "b5aHteg5HiPU",
        "outputId": "439a0941-30d9-4116-b30d-4cfe953d9e4b"
      },
      "execution_count": 9,
      "outputs": [
        {
          "output_type": "stream",
          "name": "stdout",
          "text": [
            "NI\n"
          ]
        },
        {
          "output_type": "execute_result",
          "data": {
            "text/plain": [
              "'iNeuron'"
            ],
            "application/vnd.google.colaboratory.intrinsic+json": {
              "type": "string"
            }
          },
          "metadata": {},
          "execution_count": 9
        }
      ]
    },
    {
      "cell_type": "markdown",
      "source": [
        "**6. How about this code: what is its output in Python 3, and explain?**\n",
        "**X = 'kkl'  \n",
        "def func():  \n",
        "X = 'NI'  \n",
        "def nested():  \n",
        "    nonlocal X  \n",
        "    X = 'spam'  \n",
        "nested()  \n",
        "print(X)  \n",
        "func()**  \n",
        "ANS - The output of the code is **Spam** . The **nonlocal** **keyword** changes the scope of variable **X** from the **local** to **global**. Hence the output is **Spam**"
      ],
      "metadata": {
        "id": "xFcEHC4dIISM"
      }
    },
    {
      "cell_type": "code",
      "source": [
        "def func():\n",
        "    X = 'NI'\n",
        "    def nested():\n",
        "        nonlocal X\n",
        "        X = 'Spam'\n",
        "    nested()\n",
        "    print(X)\n",
        "func()"
      ],
      "metadata": {
        "colab": {
          "base_uri": "https://localhost:8080/"
        },
        "id": "3kGCk7BLIwbV",
        "outputId": "c12dc0db-4796-42f5-9352-df692e17dcf5"
      },
      "execution_count": 11,
      "outputs": [
        {
          "output_type": "stream",
          "name": "stdout",
          "text": [
            "Spam\n"
          ]
        }
      ]
    },
    {
      "cell_type": "code",
      "source": [
        ""
      ],
      "metadata": {
        "id": "mU7Fhd3LIxKI"
      },
      "execution_count": null,
      "outputs": []
    }
  ]
}