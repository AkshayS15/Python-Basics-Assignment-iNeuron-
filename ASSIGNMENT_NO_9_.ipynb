{
  "nbformat": 4,
  "nbformat_minor": 0,
  "metadata": {
    "colab": {
      "name": "ASSIGNMENT NO.9 .ipynb",
      "provenance": [],
      "collapsed_sections": []
    },
    "kernelspec": {
      "name": "python3",
      "display_name": "Python 3"
    },
    "language_info": {
      "name": "python"
    }
  },
  "cells": [
    {
      "cell_type": "markdown",
      "source": [
        "**1. To what does a relative path refer?**  \n",
        "ANS - Relative path refers to a path/location of your present working directory."
      ],
      "metadata": {
        "id": "7sm4i0E-4KKg"
      }
    },
    {
      "cell_type": "markdown",
      "source": [
        "**2. What does an absolute path start with your operating system?**  \n",
        "ANS - The path which contains the root elements and the complete list of all directories to loacte a file or folder. All the information required to locate the file or folder is available in absolute path\n"
      ],
      "metadata": {
        "id": "dKGnUwgb5w96"
      }
    },
    {
      "cell_type": "markdown",
      "source": [
        "**3. What do the functions os.getcwd() and os.chdir() do?**  \n",
        "ANS - os.getcwd()- This function allows you to see the your current working directory.  \n",
        "os.chdir() - This function allows you to change the working directory."
      ],
      "metadata": {
        "id": "VSsx_eXQ6l4w"
      }
    },
    {
      "cell_type": "markdown",
      "source": [
        "**4. What are the . and .. folders?**  \n",
        "ANS - dot(.) and double dots(..) refers to current working directory and parent directory respectively."
      ],
      "metadata": {
        "id": "lj19V8Cz7zLt"
      }
    },
    {
      "cell_type": "markdown",
      "source": [
        "**5. In C:\\bacon\\eggs\\spam.txt, which part is the dir name, and which part is the base name?**  \n",
        "ANS - Here, C:\\bacon\\eggs is the dir name while spam.txt is base name."
      ],
      "metadata": {
        "id": "Z2c_HyOx97TH"
      }
    },
    {
      "cell_type": "markdown",
      "source": [
        "**6. What are the three “mode” arguments that can be passed to the open() function?**  \n",
        "ANS - \"r\" - for reading the opened file.  \n",
        "\"w\" - for writing the opened file.  \n",
        "\"a\" - for appending the data. "
      ],
      "metadata": {
        "id": "PGhodrRE-PtB"
      }
    },
    {
      "cell_type": "markdown",
      "source": [
        "**7. What happens if an existing file is opened in write mode?**  \n",
        "ANS - If the existing file is opened in write mode with \"w\", it's contents are discarded and the file is treated as new file or empty file."
      ],
      "metadata": {
        "id": "duuqnadq_oqw"
      }
    },
    {
      "cell_type": "markdown",
      "source": [
        "**8. How do you tell the difference between read() and readlines()?**  \n",
        "ANS - read() - This returns the entire content of file as a single string.  \n",
        "readlines() - This returns a set of strings,where each string is the line from the contets of a file. "
      ],
      "metadata": {
        "id": "wxU5ehmiA1ge"
      }
    },
    {
      "cell_type": "markdown",
      "source": [
        "**9. What data structure does a shelf value resemble?**  \n",
        "ANS - A shelf value resembles of a dictionary as it contains keys along with values similar to the dictionary."
      ],
      "metadata": {
        "id": "8m-6whS6BtKa"
      }
    }
  ]
}